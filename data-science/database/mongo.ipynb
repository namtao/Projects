{
 "cells": [
  {
   "cell_type": "markdown",
   "metadata": {},
   "source": [
    "# Giới thiệu"
   ]
  },
  {
   "cell_type": "markdown",
   "metadata": {},
   "source": [
    "Truy cập vào giao diện dòng lệnh của mongo\n",
    "\n",
    "`docker exec -it 3467a0fc187f /bin/bash`"
   ]
  },
  {
   "cell_type": "markdown",
   "metadata": {},
   "source": [
    "Tạo và chạy container mongo_test từ images mongo\n",
    "\n",
    "`docker run --name mongo_test -p 27017:27017 -d mongo`"
   ]
  }
 ],
 "metadata": {
  "language_info": {
   "name": "python"
  }
 },
 "nbformat": 4,
 "nbformat_minor": 2
}
