{
 "cells": [
  {
   "cell_type": "markdown",
   "metadata": {},
   "source": [
    "# MongoDB"
   ]
  },
  {
   "cell_type": "markdown",
   "metadata": {},
   "source": [
    "## Giới thiệu"
   ]
  },
  {
   "cell_type": "markdown",
   "metadata": {},
   "source": [
    "MongoDB là một chương trình cơ sở dữ liệu mã nguồn mở được thiết kế theo kiểu hướng đối tượng trong đó các bảng được cấu trúc một cách linh hoạt cho phép các dữ liệu lưu trên bảng không cần phải tuân theo một dạng cấu trúc nhất định nào. Chính do cấu trúc linh hoạt này nên MongoDB có thể được dùng để lưu trữ các dữ liệu có cấu trúc phức tạp và đa dạng và không cố định (hay còn gọi là Big Data)."
   ]
  },
  {
   "cell_type": "markdown",
   "metadata": {},
   "source": [
    "So sánh MongoDB với cơ sở dữ liệu quan hệ\n",
    "\n",
    "| Operation | Mysql | MongoDB |\n",
    "| ------- | ----------- | ----------- |\n",
    "|Create|\tInsert|\tInsert|\n",
    "|Read|\tSelect|\tFind|\n",
    "|Update|\tUpdate|\tUpdate|\n",
    "|Delete|\tDelete|\tRemove|\n",
    "|Table|\tTable|\tCollection|\n",
    "|Row|\tRow|\tDocument|"
   ]
  },
  {
   "cell_type": "markdown",
   "metadata": {},
   "source": [
    "## Cài đặt với docker"
   ]
  },
  {
   "cell_type": "markdown",
   "metadata": {},
   "source": [
    "B1: Cài đặt docker $\\rightarrow $ pull images mongo từ docker hub về máy\n",
    "\n",
    "B2: Tạo và chạy container mongo_test từ images mongo và start container\n",
    "\n",
    "`docker run --name mongo_test -p 27017:27017 -d mongo`\n",
    "\n",
    "B3: Tải và thêm biến môi trường mongodb shell vào máy\n",
    "\n",
    "B4: Truy cập vào giao diện dòng lệnh của mongo\n",
    "\n",
    "`docker exec -it a582849592f9 /bin/bash`\n",
    "\n",
    "B5: Gõ `mongosh` dể vào giao diện dòng lệnh container"
   ]
  },
  {
   "cell_type": "markdown",
   "metadata": {},
   "source": [
    "## Các câu lệnh với mongodb"
   ]
  },
  {
   "cell_type": "markdown",
   "metadata": {},
   "source": [
    "1. Hiện thị tất cả các databases: `show dbs`\n",
    "2. Tạo và sử dụng database: `use <tên database>`\n",
    "3. Tạo một collection và insert dữ liệu vào collection: `db.collection_name.insert({'key_name': 'value'})`\n",
    "4. Lấy tất cả object của một collection: `db.collection_name.find({})`\n",
    "5. Xóa database: `db.dropDatabase()`\n",
    "6. Xóa collection: `db.<tên collection>.drop()`\n",
    "7. Xóa document: `db.<tên collection>.remove({<điều kiện>})`\n",
    "8. Xóa document: `db.<tên collection>.remove`"
   ]
  },
  {
   "cell_type": "markdown",
   "metadata": {},
   "source": [
    "## Các câu lệnh với Docker"
   ]
  },
  {
   "cell_type": "markdown",
   "metadata": {},
   "source": [
    "| Command                                                     | Description |\n",
    "| ----------------------------------------------------------- | ----------- |\n",
    "| `docker build -t <imageName> .`                             | Build       |\n",
    "| `docker run <imageName>:<version>`                          | Run         |\n",
    "| `docker info`                                               | Information |\n",
    "| `docker save -o <path for generated tar file> <image name>` | Save config |\n",
    "| `docker load -i <path to image tar file>`                   | Load config |\n",
    "| `docker cp . 4584b29c4197:/`                                | Copy file   |\n",
    "| `docker exec --user root lucid_hermann rm -rf bienmuc.bak`  | Delete file |\n",
    "| `docker exec -it 3467a0fc187f /bin/bash`                    | Start Mongo |"
   ]
  }
 ],
 "metadata": {
  "language_info": {
   "name": "python"
  }
 },
 "nbformat": 4,
 "nbformat_minor": 2
}
