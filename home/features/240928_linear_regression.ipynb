{
 "cells": [
  {
   "cell_type": "markdown",
   "metadata": {},
   "source": [
    "# Linear Regression"
   ]
  },
  {
   "cell_type": "code",
   "execution_count": 47,
   "metadata": {},
   "outputs": [],
   "source": [
    "# dataset\n",
    "import numpy as np\n",
    "import matplotlib.pyplot as plt\n",
    "import random\n",
    "\n",
    "\n",
    "def get_column(data, index):\n",
    "    data = np.array(data)\n",
    "    result = data[:, index]\n",
    "\n",
    "    return result\n",
    "\n",
    "\n",
    "def prepare_data(file_name_dataset):\n",
    "    data = np.genfromtxt(file_name_dataset, delimiter=\",\", skip_header=1).tolist()\n",
    "    N = len(data)\n",
    "\n",
    "    # get tv (index =0)\n",
    "    tv_data = get_column(data, 0)\n",
    "    # get radio ( index =1)\n",
    "    radio_data = get_column(data, 1)\n",
    "    # get newspaper ( index =2)\n",
    "    newspaper_data = get_column(data, 2)\n",
    "    # get sales ( index =3)\n",
    "    sales_data = get_column(data, 3)\n",
    "\n",
    "    # building X input and y output for training\n",
    "    X = [tv_data, radio_data, newspaper_data]\n",
    "    y = sales_data\n",
    "    return X, y"
   ]
  },
  {
   "cell_type": "code",
   "execution_count": 48,
   "metadata": {},
   "outputs": [
    {
     "name": "stdout",
     "output_type": "stream",
     "text": [
      "[np.float64(624.1), np.float64(175.10000000000002), np.float64(300.5), np.float64(78.9)]\n"
     ]
    }
   ],
   "source": [
    "X, y = prepare_data(\"advertising.csv\")\n",
    "list = [sum(X[0][:5]), sum(X[1][:5]), sum(X[2][:5]), sum(y[:5])]\n",
    "print(list)"
   ]
  },
  {
   "cell_type": "code",
   "execution_count": 49,
   "metadata": {},
   "outputs": [],
   "source": [
    "def initialize_params():\n",
    "    w1, w2, w3, b = (\n",
    "        0.016992259082509283,\n",
    "        0.0070783670518262355,\n",
    "        -0.002307860847821344,\n",
    "        0,\n",
    "    )\n",
    "    return w1, w2, w3, b"
   ]
  },
  {
   "cell_type": "code",
   "execution_count": 50,
   "metadata": {},
   "outputs": [],
   "source": [
    "def predict(x1, x2, x3, w1, w2, w3, b):\n",
    "\n",
    "    result = x1 * w1 + x2 * w2 + x3 * w3 + b\n",
    "    return result"
   ]
  },
  {
   "cell_type": "code",
   "execution_count": 51,
   "metadata": {},
   "outputs": [
    {
     "data": {
      "text/plain": [
       "1.0"
      ]
     },
     "execution_count": 51,
     "metadata": {},
     "output_type": "execute_result"
    }
   ],
   "source": [
    "y = predict(x1=1, x2=1, x3=1, w1=0, w2=0.5, w3=0, b=0.5)\n",
    "y"
   ]
  },
  {
   "cell_type": "code",
   "execution_count": 52,
   "metadata": {},
   "outputs": [],
   "source": [
    "def compute_loss(y_hat, y):\n",
    "\n",
    "    loss = (y_hat - y) ** 2\n",
    "    return loss"
   ]
  },
  {
   "cell_type": "code",
   "execution_count": 53,
   "metadata": {},
   "outputs": [
    {
     "name": "stdout",
     "output_type": "stream",
     "text": [
      "0.25\n"
     ]
    }
   ],
   "source": [
    "l = compute_loss(y_hat=1, y=0.5)\n",
    "print(l)"
   ]
  },
  {
   "cell_type": "code",
   "execution_count": 54,
   "metadata": {},
   "outputs": [],
   "source": [
    "def compute_gradient_wi(xi, y, y_hat):\n",
    "    dl_dwi = 2 * xi * (y_hat - y)\n",
    "    return dl_dwi"
   ]
  },
  {
   "cell_type": "code",
   "execution_count": 55,
   "metadata": {},
   "outputs": [],
   "source": [
    "def compute_gradient_b (y , y_hat ) :\n",
    "    dl_db = 2 * (y_hat - y)\n",
    "    return dl_db"
   ]
  },
  {
   "cell_type": "code",
   "execution_count": 56,
   "metadata": {},
   "outputs": [
    {
     "name": "stdout",
     "output_type": "stream",
     "text": [
      "-1.0\n",
      "-3.0\n"
     ]
    }
   ],
   "source": [
    "g_wi = compute_gradient_wi(xi=1.0, y=1.0, y_hat=0.5)\n",
    "print(g_wi)\n",
    "g_b = compute_gradient_b(y=2.0, y_hat=0.5)\n",
    "print(g_b)"
   ]
  },
  {
   "cell_type": "code",
   "execution_count": 57,
   "metadata": {},
   "outputs": [
    {
     "name": "stdout",
     "output_type": "stream",
     "text": [
      "1.000005\n",
      "0.50001\n"
     ]
    }
   ],
   "source": [
    "def update_weight_wi(wi, dl_dwi, lr):\n",
    "    wi = wi - lr * dl_dwi\n",
    "    return wi\n",
    "\n",
    "\n",
    "def update_weight_b(b, dl_db, lr):\n",
    "    b = b - lr * dl_db\n",
    "    return b\n",
    "\n",
    "\n",
    "after_wi = update_weight_wi(wi=1.0, dl_dwi=-0.5, lr=1e-5)\n",
    "print(after_wi)\n",
    "\n",
    "after_b = update_weight_b(b=0.5, dl_db=-1.0, lr=1e-5)\n",
    "print(after_b)\n",
    "# print(after_wi)"
   ]
  },
  {
   "cell_type": "code",
   "execution_count": 58,
   "metadata": {},
   "outputs": [],
   "source": [
    "def implement_linear_regression(X_data, y_data, epoch_max=50, lr=1e-5):\n",
    "    losses = []\n",
    "\n",
    "    w1, w2, w3, b = initialize_params()\n",
    "\n",
    "    N = len(y_data)\n",
    "    for epoch in range(epoch_max):\n",
    "        for i in range(N):\n",
    "            # get a sample\n",
    "            x1 = X_data[0][i]\n",
    "            x2 = X_data[1][i]\n",
    "            x3 = X_data[2][i]\n",
    "\n",
    "            y = y_data[i]\n",
    "\n",
    "            # compute output\n",
    "            y_hat = predict(x1, x2, x3, w1, w2, w3, b)\n",
    "\n",
    "            # compute loss\n",
    "            loss = compute_loss(y, y_hat)\n",
    "\n",
    "            # compute gradient w1 , w2 , w3 , b\n",
    "            dl_dw1 = compute_gradient_wi(x1, y, y_hat)\n",
    "            dl_dw2 = compute_gradient_wi(x2, y, y_hat)\n",
    "            dl_dw3 = compute_gradient_wi(x3, y, y_hat)\n",
    "            dl_db = compute_gradient_b(y, y_hat)\n",
    "\n",
    "            w1 = update_weight_wi(w1, dl_dw1, lr)\n",
    "            w2 = update_weight_wi(w2, dl_dw2, lr)\n",
    "            w3 = update_weight_wi(w3, dl_dw3, lr)\n",
    "            b = update_weight_b(b, dl_db, lr)\n",
    "\n",
    "            # logging\n",
    "            losses.append(loss)\n",
    "    return (w1, w2, w3, b, losses)"
   ]
  },
  {
   "cell_type": "code",
   "execution_count": 59,
   "metadata": {},
   "outputs": [
    {
     "name": "stdout",
     "output_type": "stream",
     "text": [
      "0.07405984066396477 0.15917360263437663 0.017561197559948935\n"
     ]
    }
   ],
   "source": [
    "X, y = prepare_data(\"advertising.csv\")\n",
    "\n",
    "(w1, w2, w3, b, losses) = implement_linear_regression(X, y)\n",
    "print(w1, w2, w3)"
   ]
  },
  {
   "cell_type": "code",
   "execution_count": 60,
   "metadata": {},
   "outputs": [
    {
     "name": "stdout",
     "output_type": "stream",
     "text": [
      "predicted sales is 8.176413319549823\n"
     ]
    }
   ],
   "source": [
    "tv = 19.2\n",
    "radio = 35.9\n",
    "newspaper = 51.3\n",
    "X, y = prepare_data(\"advertising.csv\")\n",
    "(w1, w2, w3, b, losses) = implement_linear_regression(X, y, epoch_max=50, lr=1e-5)\n",
    "sales = predict(tv, radio, newspaper, w1, w2, w3, b)\n",
    "print(f\"predicted sales is { sales }\")"
   ]
  },
  {
   "cell_type": "code",
   "execution_count": 61,
   "metadata": {},
   "outputs": [],
   "source": [
    "def compute_loss_mae(y_hat, y):\n",
    "    return abs(y_hat - y)"
   ]
  },
  {
   "cell_type": "code",
   "execution_count": 62,
   "metadata": {},
   "outputs": [
    {
     "name": "stdout",
     "output_type": "stream",
     "text": [
      "0.5\n"
     ]
    }
   ],
   "source": [
    "l = compute_loss_mae(y_hat=1, y=0.5)\n",
    "print(l)"
   ]
  },
  {
   "cell_type": "code",
   "execution_count": 63,
   "metadata": {},
   "outputs": [],
   "source": [
    "def implement_linear_regression_nsamples(X_data, y_data, epoch_max=50, lr=1e-5):\n",
    "    losses = []\n",
    "\n",
    "    w1, w2, w3, b = initialize_params()\n",
    "    N = len(y_data)\n",
    "\n",
    "    for epoch in range(epoch_max):\n",
    "\n",
    "        loss_total = 0.0\n",
    "        dw1_total = 0.0\n",
    "        dw2_total = 0.0\n",
    "        dw3_total = 0.0\n",
    "        db_total = 0.0\n",
    "\n",
    "        for i in range(N):\n",
    "            # get a sample\n",
    "            x1 = X_data[0][i]\n",
    "            x2 = X_data[1][i]\n",
    "            x3 = X_data[2][i]\n",
    "\n",
    "            y = y_data[i]\n",
    "\n",
    "            # compute output\n",
    "            y_hat = predict(x1, x2, x3, w1, w2, w3, b)\n",
    "\n",
    "            # compute loss\n",
    "            loss = compute_loss(y, y_hat)\n",
    "\n",
    "            # accumulate loss\n",
    "            loss_total += loss\n",
    "\n",
    "            # compute gradient w1 , w2 , w3 , b\n",
    "            dl_dw1 = compute_gradient_wi(x1, y, y_hat)\n",
    "            dl_dw2 = compute_gradient_wi(x2, y, y_hat)\n",
    "            dl_dw3 = compute_gradient_wi(x3, y, y_hat)\n",
    "            dl_db = compute_gradient_b(y, y_hat)\n",
    "\n",
    "            # accumulate gradient w1 , w2 , w3 , b\n",
    "            dw1_total += dl_dw1\n",
    "            dw2_total += dl_dw2\n",
    "            dw3_total += dl_dw3\n",
    "            db_total += dl_db\n",
    "            \n",
    "        # ( after processing N samples ) - update parameters\n",
    "\n",
    "        # update parameters\n",
    "        w1 = update_weight_wi(w1, dw1_total/N, lr)             \n",
    "        w2 = update_weight_wi(w2, dw2_total/N, lr)             \n",
    "        w3 = update_weight_wi(w3, dw3_total/N, lr)             \n",
    "        b = update_weight_b(b, db_total/N, lr)\n",
    "\n",
    "        # logging\n",
    "        losses.append(loss_total / N)\n",
    "    return (w1, w2, w3, b, losses)"
   ]
  },
  {
   "cell_type": "code",
   "execution_count": 64,
   "metadata": {},
   "outputs": [
    {
     "data": {
      "image/png": "[encoded data removed]",
      "text/plain": [
       "<Figure size 640x480 with 1 Axes>"
      ]
     },
     "metadata": {},
     "output_type": "display_data"
    }
   ],
   "source": [
    "(w1, w2, w3, b, losses) = implement_linear_regression_nsamples(\n",
    "    X, y, epoch_max=1000, lr=1e-5\n",
    ")\n",
    "# print(losses)\n",
    "plt.plot(losses)\n",
    "plt.xlabel(\"# epoch \")\n",
    "plt.ylabel(\"MSE Loss \")\n",
    "plt.show()"
   ]
  },
  {
   "cell_type": "code",
   "execution_count": 65,
   "metadata": {},
   "outputs": [
    {
     "name": "stdout",
     "output_type": "stream",
     "text": [
      "0.06710990754044266 0.15756173831487585 0.029619799386084403\n"
     ]
    }
   ],
   "source": [
    "X, y = prepare_data(\"advertising.csv\")\n",
    "# using MSE loss\n",
    "(w1, w2, w3, b, losses) = implement_linear_regression_nsamples(\n",
    "    X, y, epoch_max=1000, lr=1e-5\n",
    ")\n",
    "\n",
    "print(w1, w2, w3)"
   ]
  },
  {
   "cell_type": "code",
   "execution_count": 66,
   "metadata": {},
   "outputs": [],
   "source": [
    "def prepare_data(file_name_dataset):\n",
    "    data = np.genfromtxt(file_name_dataset, delimiter=\",\", skip_header=1).tolist()\n",
    "\n",
    "    # get tv ( index =0)\n",
    "    tv_data = get_column(data, 0)\n",
    "\n",
    "    # get radio ( index =1)\n",
    "    radio_data = get_column(data, 1)\n",
    "\n",
    "    # get newspaper ( index =2)\n",
    "    newspaper_data = get_column(data, 2)\n",
    "\n",
    "    # get sales ( index =3)\n",
    "    sales_data = get_column(data, 3)\n",
    "\n",
    "    # building X input and y output for training\n",
    "    # Create list of features for input\n",
    "    X = [[1, x1, x2, x3] for x1, x2, x3 in zip(tv_data, radio_data, newspaper_data)]\n",
    "    y = sales_data\n",
    "    return X, y"
   ]
  },
  {
   "cell_type": "code",
   "execution_count": null,
   "metadata": {},
   "outputs": [],
   "source": [
    "def initialize_params():\n",
    "    bias = 0\n",
    "    w1 = random.gauss(mu=0.0, sigma=0.01)\n",
    "    w2 = random.gauss(mu=0.0, sigma=0.01)\n",
    "    w3 = random.gauss(mu=0.0, sigma=0.01)\n",
    "\n",
    "    # comment this line for real application\n",
    "    return [0, -0.01268850433497871, 0.004752496982185252, 0.0073796171538643845]\n",
    "    # return [bias , w1 , w2 , w3]"
   ]
  },
  {
   "cell_type": "code",
   "execution_count": 100,
   "metadata": {},
   "outputs": [],
   "source": [
    "def predict(X_features, weights):\n",
    "    result = np.dot(X_features, weights)\n",
    "    return result\n",
    "\n",
    "\n",
    "def compute_loss(y_hat, y):\n",
    "    return (y_hat - y) ** 2\n",
    "\n",
    "\n",
    "def compute_gradient_w(X_features, y, y_hat):\n",
    "    X_features = np.array(X_features)\n",
    "    return 2 * X_features * (y_hat - y)\n",
    "\n",
    "\n",
    "def update_weight(weights, dl_dweights, lr):\n",
    "    return weights - lr * dl_dweights"
   ]
  },
  {
   "cell_type": "code",
   "execution_count": 101,
   "metadata": {},
   "outputs": [],
   "source": [
    "def implement_linear_regression(X_feature, y_ouput, epoch_max=50, lr=1e-5):\n",
    "\n",
    "    losses = []\n",
    "    weights = initialize_params()\n",
    "    N = len(y_ouput)\n",
    "    for epoch in range(epoch_max):\n",
    "        # print(\" epoch \", epoch)\n",
    "        for i in range(N):\n",
    "            # get a sample - row i\n",
    "            features_i = X_feature[i]\n",
    "            y = y_ouput[i]\n",
    "\n",
    "            # compute output\n",
    "            y_hat = predict(features_i, weights)\n",
    "\n",
    "            # compute loss\n",
    "            loss = compute_loss(y, y_hat)\n",
    "\n",
    "            # compute gradient w1 , w2 , w3 , b\n",
    "            dl_dweights = compute_gradient_w(features_i, y, y_hat)\n",
    "\n",
    "            # update parameters\n",
    "            weights = update_weight(weights, dl_dweights, lr)\n",
    "\n",
    "            # logging\n",
    "            losses.append(loss)\n",
    "    return weights, losses"
   ]
  },
  {
   "cell_type": "code",
   "execution_count": 102,
   "metadata": {},
   "outputs": [
    {
     "data": {
      "image/png": "[encoded data removed]",
      "text/plain": [
       "<Figure size 640x480 with 1 Axes>"
      ]
     },
     "metadata": {},
     "output_type": "display_data"
    }
   ],
   "source": [
    "\n",
    "X, y = prepare_data(\"advertising.csv\")\n",
    "W, L = implement_linear_regression(X, y)\n",
    "plt.plot(L[0:100])\n",
    "plt.xlabel(\"# iteration \")\n",
    "plt.ylabel(\" Loss \")\n",
    "plt.show()"
   ]
  },
  {
   "cell_type": "code",
   "execution_count": 96,
   "metadata": {},
   "outputs": [
    {
     "name": "stdout",
     "output_type": "stream",
     "text": [
      "31.070006369818007\n"
     ]
    }
   ],
   "source": [
    "X, y = prepare_data(\"advertising.csv\")\n",
    "W, L = implement_linear_regression(X, y, epoch_max=50, lr=1e-5)\n",
    "# Print loss value at iteration 9999\n",
    "print(L[9999])"
   ]
  }
 ],
 "metadata": {
  "kernelspec": {
   "display_name": ".env",
   "language": "python",
   "name": "python3"
  },
  "language_info": {
   "codemirror_mode": {
    "name": "ipython",
    "version": 3
   },
   "file_extension": ".py",
   "mimetype": "text/x-python",
   "name": "python",
   "nbconvert_exporter": "python",
   "pygments_lexer": "ipython3",
   "version": "3.12.1"
  }
 },
 "nbformat": 4,
 "nbformat_minor": 2
}
