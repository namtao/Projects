{
  "nbformat": 4,
  "nbformat_minor": 0,
  "metadata": {
    "colab": {
      "provenance": []
    },
    "kernelspec": {
      "name": "python3",
      "display_name": "Python 3"
    },
    "language_info": {
      "name": "python"
    }
  },
  "cells": [
    {
      "cell_type": "code",
      "source": [
        "import numpy as np\n",
        "from collections import Counter\n",
        "from sklearn.metrics import accuracy_score"
      ],
      "metadata": {
        "id": "jzVxaBOTMMan"
      },
      "execution_count": 1,
      "outputs": []
    },
    {
      "cell_type": "code",
      "source": [
        "# Tính entropy\n",
        "def entropy(s):\n",
        "    counts = np.bincount(s)\n",
        "    percentages = counts / len(s)\n",
        "\n",
        "    entropy = 0\n",
        "    for pct in percentages:\n",
        "        if pct > 0:\n",
        "            entropy += pct * np.log2(pct)\n",
        "    return -entropy"
      ],
      "metadata": {
        "id": "m_hAPx1jMP9U"
      },
      "execution_count": 2,
      "outputs": []
    },
    {
      "cell_type": "code",
      "source": [
        "# Kiểm tra\n",
        "s = [0, 0, 0, 0, 0, 0, 0, 1, 1, 1]\n",
        "print(f'Entropy: {np.round(entropy(s), 2)}')"
      ],
      "metadata": {
        "colab": {
          "base_uri": "https://localhost:8080/"
        },
        "id": "4VaPvajuMTWw",
        "outputId": "3b754ef3-a8e4-4854-d143-5c255f0023c4"
      },
      "execution_count": 3,
      "outputs": [
        {
          "output_type": "stream",
          "name": "stdout",
          "text": [
            "Entropy: 0.88\n"
          ]
        }
      ]
    },
    {
      "cell_type": "code",
      "source": [
        "#Tính information gain\n",
        "def information_gain(parent, left_child, right_child):\n",
        "    num_left = len(left_child) / len(parent)\n",
        "    num_right = len(right_child) / len(parent)\n",
        "\n",
        "    gain = entropy(parent) - (num_left * entropy(left_child) + num_right * entropy(right_child))\n",
        "    return gain"
      ],
      "metadata": {
        "id": "2X8OkErSNzBZ"
      },
      "execution_count": 4,
      "outputs": []
    },
    {
      "cell_type": "code",
      "source": [
        "# Kiểm thử\n",
        "parent = [0, 0, 0, 0, 0, 0, 0, 0, 0, 0, 0, 0, 1, 1, 1, 1, 1, 1, 1, 1]\n",
        "left_child = [0, 0, 0, 0, 0, 0, 0, 0, 0, 0, 1, 1]\n",
        "right_child = [0, 0, 0, 0, 1, 1, 1, 1]\n",
        "\n",
        "print(f'Information gain: {np.round(information_gain(parent, left_child, right_child), 5)}')"
      ],
      "metadata": {
        "colab": {
          "base_uri": "https://localhost:8080/"
        },
        "id": "rD5-HlhkN4U-",
        "outputId": "1fcd9342-9001-48de-d2a5-a2d436c11fd6"
      },
      "execution_count": 5,
      "outputs": [
        {
          "output_type": "stream",
          "name": "stdout",
          "text": [
            "Information gain: 0.18094\n"
          ]
        }
      ]
    },
    {
      "cell_type": "code",
      "source": [
        "def factorial(x):\n",
        "    # Exit condition\n",
        "    if x == 1:\n",
        "        return 1\n",
        "    return x * factorial(x - 1)\n",
        "\n",
        "print(f'Factorial of 5 is {factorial(5)}')"
      ],
      "metadata": {
        "colab": {
          "base_uri": "https://localhost:8080/"
        },
        "id": "fyg3KUkpOe5d",
        "outputId": "b3063245-7d82-43d1-c751-e7075d7c3703"
      },
      "execution_count": 6,
      "outputs": [
        {
          "output_type": "stream",
          "name": "stdout",
          "text": [
            "Factorial of 5 is 120\n"
          ]
        }
      ]
    },
    {
      "cell_type": "code",
      "source": [
        "class AIONode:\n",
        "    '''\n",
        "    Helper class which implements a single tree node.\n",
        "    '''\n",
        "    def __init__(self, feature=None, threshold=None,\n",
        "                 data_left=None, data_right=None, gain=None, value=None):\n",
        "        self.feature = feature\n",
        "        self.threshold = threshold\n",
        "        self.data_left = data_left\n",
        "        self.data_right = data_right\n",
        "        self.gain = gain\n",
        "        self.value = value"
      ],
      "metadata": {
        "id": "9gXVHhbDOx7Q"
      },
      "execution_count": 7,
      "outputs": []
    },
    {
      "cell_type": "code",
      "source": [
        "class AIODecisionTree:\n",
        "    '''\n",
        "    Class which implements a decision tree classifier algorithm.\n",
        "    '''\n",
        "    def __init__(self, min_samples_split=2, max_depth=5):\n",
        "        self.min_samples_split = min_samples_split\n",
        "        self.max_depth = max_depth\n",
        "        self.root = None\n",
        "\n",
        "    @staticmethod\n",
        "    def _entropy(s):\n",
        "        '''\n",
        "        Helper function, calculates entropy from an array of integer values.\n",
        "\n",
        "        :param s: list\n",
        "        :return: float, entropy value\n",
        "        '''\n",
        "        # Convert to integers to avoid runtime errors\n",
        "        counts = np.bincount(np.array(s, dtype=np.int64))\n",
        "        # Probabilities of each class label\n",
        "        percentages = counts / len(s)\n",
        "\n",
        "        # Caclulate entropy\n",
        "        entropy = 0\n",
        "        for pct in percentages:\n",
        "            if pct > 0:\n",
        "                entropy += pct * np.log2(pct)\n",
        "        return -entropy\n",
        "\n",
        "    def _information_gain(self, parent, left_child, right_child):\n",
        "        '''\n",
        "        Helper function, calculates information gain from a parent and two child nodes.\n",
        "\n",
        "        :param parent: list, the parent node\n",
        "        :param left_child: list, left child of a parent\n",
        "        :param right_child: list, right child of a parent\n",
        "        :return: float, information gain\n",
        "        '''\n",
        "        num_left = len(left_child) / len(parent)\n",
        "        num_right = len(right_child) / len(parent)\n",
        "\n",
        "        # One-liner which implements the previously discussed formula\n",
        "        return self._entropy(parent) - (num_left * self._entropy(left_child) + num_right * self._entropy(right_child))\n",
        "\n",
        "    def _best_split(self, X, y):\n",
        "        '''\n",
        "        Helper function, calculates the best split for given features and target\n",
        "\n",
        "        :param X: np.array, features\n",
        "        :param y: np.array or list, target\n",
        "        :return: dict\n",
        "        '''\n",
        "        best_split = {}\n",
        "        best_info_gain = -1\n",
        "        n_rows, n_cols = X.shape\n",
        "\n",
        "        # For every dataset feature\n",
        "        for f_idx in range(n_cols):\n",
        "            X_curr = X[:, f_idx]\n",
        "            # For every unique value of that feature\n",
        "            for threshold in np.unique(X_curr):\n",
        "                # Construct a dataset and split it to the left and right parts\n",
        "                # Left part includes records lower or equal to the threshold\n",
        "                # Right part includes records higher than the threshold\n",
        "                df = np.concatenate((X, y.reshape(1, -1).T), axis=1)\n",
        "                df_left = np.array([row for row in df if row[f_idx] <= threshold])\n",
        "                df_right = np.array([row for row in df if row[f_idx] > threshold])\n",
        "\n",
        "                # Do the calculation only if there's data in both subsets\n",
        "                if len(df_left) > 0 and len(df_right) > 0:\n",
        "                    # Obtain the value of the target variable for subsets\n",
        "                    y = df[:, -1]\n",
        "                    y_left = df_left[:, -1]\n",
        "                    y_right = df_right[:, -1]\n",
        "\n",
        "                    # Caclulate the information gain and save the split parameters\n",
        "                    # if the current split if better then the previous best\n",
        "                    gain = self._information_gain(y, y_left, y_right)\n",
        "                    if gain > best_info_gain:\n",
        "                        best_split = {\n",
        "                            'feature_index': f_idx,\n",
        "                            'threshold': threshold,\n",
        "                            'df_left': df_left,\n",
        "                            'df_right': df_right,\n",
        "                            'gain': gain\n",
        "                        }\n",
        "                        best_info_gain = gain\n",
        "        return best_split\n",
        "\n",
        "    def _build(self, X, y, depth=0):\n",
        "        '''\n",
        "        Helper recursive function, used to build a decision tree from the input data.\n",
        "\n",
        "        :param X: np.array, features\n",
        "        :param y: np.array or list, target\n",
        "        :param depth: current depth of a tree, used as a stopping criteria\n",
        "        :return: Node\n",
        "        '''\n",
        "        n_rows, n_cols = X.shape\n",
        "\n",
        "        # Check to see if a node should be leaf node\n",
        "        if n_rows >= self.min_samples_split and depth <= self.max_depth:\n",
        "            # Get the best split\n",
        "            best = self._best_split(X, y)\n",
        "            # If the split isn't pure\n",
        "            if best['gain'] > 0:\n",
        "                # Build a tree on the left\n",
        "                left = self._build(\n",
        "                    X=best['df_left'][:, :-1],\n",
        "                    y=best['df_left'][:, -1],\n",
        "                    depth=depth + 1\n",
        "                )\n",
        "                right = self._build(\n",
        "                    X=best['df_right'][:, :-1],\n",
        "                    y=best['df_right'][:, -1],\n",
        "                    depth=depth + 1\n",
        "                )\n",
        "                return AIONode(\n",
        "                    feature=best['feature_index'],\n",
        "                    threshold=best['threshold'],\n",
        "                    data_left=left,\n",
        "                    data_right=right,\n",
        "                    gain=best['gain']\n",
        "                )\n",
        "        # Leaf node - value is the most common target value\n",
        "        return AIONode(\n",
        "            value=Counter(y).most_common(1)[0][0]\n",
        "        )\n",
        "\n",
        "    def fit(self, X, y):\n",
        "        '''\n",
        "        Function used to train a decision tree classifier model.\n",
        "\n",
        "        :param X: np.array, features\n",
        "        :param y: np.array or list, target\n",
        "        :return: None\n",
        "        '''\n",
        "        # Call a recursive function to build the tree\n",
        "        self.root = self._build(X, y)\n",
        "\n",
        "    def _predict(self, x, tree):\n",
        "        '''\n",
        "        Helper recursive function, used to predict a single instance (tree traversal).\n",
        "\n",
        "        :param x: single observation\n",
        "        :param tree: built tree\n",
        "        :return: float, predicted class\n",
        "        '''\n",
        "        # Leaf node\n",
        "        if tree.value != None:\n",
        "            return tree.value\n",
        "        feature_value = x[tree.feature]\n",
        "\n",
        "        # Go to the left\n",
        "        if feature_value <= tree.threshold:\n",
        "            return self._predict(x=x, tree=tree.data_left)\n",
        "\n",
        "        # Go to the right\n",
        "        if feature_value > tree.threshold:\n",
        "            return self._predict(x=x, tree=tree.data_right)\n",
        "\n",
        "    def predict(self, X):\n",
        "        '''\n",
        "        Function used to classify new instances.\n",
        "\n",
        "        :param X: np.array, features\n",
        "        :return: np.array, predicted classes\n",
        "        '''\n",
        "        # Call the _predict() function for every observation\n",
        "        return [self._predict(x, self.root) for x in X]"
      ],
      "metadata": {
        "id": "366-yYD2Oz7r"
      },
      "execution_count": 8,
      "outputs": []
    },
    {
      "cell_type": "code",
      "source": [
        "# Sử dụng Iris dataset từ Sklearn\n",
        "from sklearn.datasets import load_iris\n",
        "from sklearn.model_selection import train_test_split\n",
        "\n",
        "iris = load_iris()\n",
        "X = iris['data']\n",
        "y = iris['target']\n",
        "X_train, X_test, y_train, y_test = train_test_split(X, y, test_size=0.2, random_state=42)"
      ],
      "metadata": {
        "id": "B9ErNolyPBX6"
      },
      "execution_count": 9,
      "outputs": []
    },
    {
      "cell_type": "code",
      "source": [],
      "metadata": {
        "id": "KfbjJkXXPDvB"
      },
      "execution_count": 9,
      "outputs": []
    },
    {
      "cell_type": "code",
      "source": [
        "# Đánh giá độ chính xác\n",
        "model = AIODecisionTree()\n",
        "model.fit(X_train, y_train)\n",
        "preds = model.predict(X_test)\n",
        "accuracy_score(y_test, preds)"
      ],
      "metadata": {
        "colab": {
          "base_uri": "https://localhost:8080/"
        },
        "id": "ZVHvzH4rPE4q",
        "outputId": "37596eae-035b-422d-e5a6-bc4c5c36e570"
      },
      "execution_count": 10,
      "outputs": [
        {
          "output_type": "execute_result",
          "data": {
            "text/plain": [
              "1.0"
            ]
          },
          "metadata": {},
          "execution_count": 10
        }
      ]
    },
    {
      "cell_type": "code",
      "source": [
        "from sklearn.tree import DecisionTreeClassifier\n",
        "\n",
        "# Đánh giá độ chính xác sử dụng thư viện Sklearn\n",
        "sk_model = DecisionTreeClassifier()\n",
        "sk_model.fit(X_train, y_train)\n",
        "sk_preds = sk_model.predict(X_test)\n",
        "accuracy_score(y_test, sk_preds)"
      ],
      "metadata": {
        "colab": {
          "base_uri": "https://localhost:8080/"
        },
        "id": "1vyM60YaRVk2",
        "outputId": "82b5231e-5d71-430c-9f9a-8d134ed20f27"
      },
      "execution_count": 11,
      "outputs": [
        {
          "output_type": "execute_result",
          "data": {
            "text/plain": [
              "1.0"
            ]
          },
          "metadata": {},
          "execution_count": 11
        }
      ]
    },
    {
      "cell_type": "code",
      "source": [
        "class AIORandomForest:\n",
        "    '''\n",
        "    A class that implements Random Forest algorithm from scratch.\n",
        "    '''\n",
        "    def __init__(self, num_trees=25, min_samples_split=2, max_depth=5):\n",
        "        self.num_trees = num_trees\n",
        "        self.min_samples_split = min_samples_split\n",
        "        self.max_depth = max_depth\n",
        "        # Will store individually trained decision trees\n",
        "        self.decision_trees = []\n",
        "\n",
        "    @staticmethod\n",
        "    def _sample(X, y):\n",
        "        '''\n",
        "        Helper function used for boostrap sampling.\n",
        "\n",
        "        :param X: np.array, features\n",
        "        :param y: np.array, target\n",
        "        :return: tuple (sample of features, sample of target)\n",
        "        '''\n",
        "        n_rows, n_cols = X.shape\n",
        "        # Sample with replacement\n",
        "        samples = np.random.choice(a=n_rows, size=n_rows, replace=True)\n",
        "        return X[samples], y[samples]\n",
        "\n",
        "    def fit(self, X, y):\n",
        "        '''\n",
        "        Trains a Random Forest classifier.\n",
        "\n",
        "        :param X: np.array, features\n",
        "        :param y: np.array, target\n",
        "        :return: None\n",
        "        '''\n",
        "        # Reset\n",
        "        if len(self.decision_trees) > 0:\n",
        "            self.decision_trees = []\n",
        "\n",
        "        # Build each tree of the forest\n",
        "        num_built = 0\n",
        "        while num_built < self.num_trees:\n",
        "            try:\n",
        "                clf = AIODecisionTree(\n",
        "                    min_samples_split=self.min_samples_split,\n",
        "                    max_depth=self.max_depth\n",
        "                )\n",
        "                # Obtain data sample\n",
        "                _X, _y = self._sample(X, y)\n",
        "                # Train\n",
        "                clf.fit(_X, _y)\n",
        "                # Save the classifier\n",
        "                self.decision_trees.append(clf)\n",
        "                num_built += 1\n",
        "            except Exception as e:\n",
        "                continue\n",
        "\n",
        "    def predict(self, X):\n",
        "        '''\n",
        "        Predicts class labels for new data instances.\n",
        "\n",
        "        :param X: np.array, new instances to predict\n",
        "        :return:\n",
        "        '''\n",
        "        # Make predictions with every tree in the forest\n",
        "        y = []\n",
        "        for tree in self.decision_trees:\n",
        "            y.append(tree.predict(X))\n",
        "\n",
        "        # Reshape so we can find the most common value\n",
        "        y = np.swapaxes(a=y, axis1=0, axis2=1)\n",
        "\n",
        "        # Use majority voting for the final prediction\n",
        "        predictions = []\n",
        "        for preds in y:\n",
        "            counter = Counter(preds)\n",
        "            predictions.append(counter.most_common(1)[0][0])\n",
        "        return predictions"
      ],
      "metadata": {
        "id": "JZs7GUQaTo19"
      },
      "execution_count": 29,
      "outputs": []
    },
    {
      "cell_type": "code",
      "source": [
        "# Load data từ Sklearn\n",
        "from sklearn.datasets import load_iris\n",
        "from sklearn.model_selection import train_test_split\n",
        "\n",
        "iris = load_iris()\n",
        "X = iris['data']\n",
        "y = iris['target']\n",
        "X_train, X_test, y_train, y_test = train_test_split(X, y, test_size=0.2, random_state=42)"
      ],
      "metadata": {
        "id": "grOBRaF6UgTt"
      },
      "execution_count": 19,
      "outputs": []
    },
    {
      "cell_type": "code",
      "source": [
        "# Đánh giá độ chính xác giải thuật random forest không dùng lib\n",
        "model = AIORandomForest()\n",
        "model.fit(X_train, y_train)\n",
        "random_forest_preds = model.predict(X_test)\n",
        "accuracy_score(y_test, random_forest_preds)"
      ],
      "metadata": {
        "colab": {
          "base_uri": "https://localhost:8080/"
        },
        "id": "nwvz8pzXUq5j",
        "outputId": "a5049542-002d-4aa3-8c76-217ce57d4189"
      },
      "execution_count": 33,
      "outputs": [
        {
          "output_type": "execute_result",
          "data": {
            "text/plain": [
              "1.0"
            ]
          },
          "metadata": {},
          "execution_count": 33
        }
      ]
    },
    {
      "cell_type": "code",
      "source": [
        "# Đánh giá độ chính xác giải thuật random forest\n",
        "# sử dụng RandomForestClassifier class từ Sklearn\n",
        "from sklearn.ensemble import RandomForestClassifier\n",
        "\n",
        "sk_model = RandomForestClassifier()\n",
        "sk_model.fit(X_train, y_train)\n",
        "sk_preds = sk_model.predict(X_test)\n",
        "accuracy_score(y_test, sk_preds)"
      ],
      "metadata": {
        "colab": {
          "base_uri": "https://localhost:8080/"
        },
        "id": "_kVqCZ-DXxEm",
        "outputId": "62edf740-5c56-4054-a9bd-e02fc98e1d18"
      },
      "execution_count": 34,
      "outputs": [
        {
          "output_type": "execute_result",
          "data": {
            "text/plain": [
              "1.0"
            ]
          },
          "metadata": {},
          "execution_count": 34
        }
      ]
    }
  ]
}