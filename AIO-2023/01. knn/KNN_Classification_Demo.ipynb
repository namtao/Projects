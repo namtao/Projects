{
 "cells": [
  {
   "cell_type": "code",
   "execution_count": 1,
   "metadata": {
    "id": "lxb1uUEomThd"
   },
   "outputs": [],
   "source": [
    "import numpy as np\n",
    "import matplotlib.pyplot as plt\n",
    "from sklearn import neighbors, datasets\n",
    "import pandas as pd\n",
    "from sklearn.metrics import accuracy_score,classification_report\n",
    "from sklearn.model_selection import train_test_split"
   ]
  },
  {
   "cell_type": "code",
   "execution_count": 2,
   "metadata": {
    "colab": {
     "base_uri": "https://localhost:8080/"
    },
    "id": "W4K6XpxOmfoJ",
    "outputId": "73aacedb-cf66-43b3-c77b-a1d5426c580d"
   },
   "outputs": [
    {
     "name": "stdout",
     "output_type": "stream",
     "text": [
      "Number of classes: 3\n",
      "Number of data points: 150\n"
     ]
    }
   ],
   "source": [
    "iris = datasets.load_iris()\n",
    "iris_X = iris.data\n",
    "iris_y = iris.target\n",
    "print('Number of classes: %d' %len(np.unique(iris_y)))\n",
    "print('Number of data points: %d' %len(iris_y))\n"
   ]
  },
  {
   "cell_type": "code",
   "execution_count": 3,
   "metadata": {},
   "outputs": [
    {
     "name": "stdout",
     "output_type": "stream",
     "text": [
      "[[5.1 3.5 1.4 0.2]\n",
      " [4.9 3.  1.4 0.2]\n",
      " [4.7 3.2 1.3 0.2]\n",
      " [4.6 3.1 1.5 0.2]\n",
      " [5.  3.6 1.4 0.2]]\n"
     ]
    }
   ],
   "source": [
    "print(iris_X[:5, :])"
   ]
  },
  {
   "cell_type": "code",
   "execution_count": 4,
   "metadata": {},
   "outputs": [
    {
     "name": "stdout",
     "output_type": "stream",
     "text": [
      "[0 0 0 0 0]\n"
     ]
    }
   ],
   "source": [
    "print(iris_y[:5])"
   ]
  },
  {
   "cell_type": "code",
   "execution_count": null,
   "metadata": {},
   "outputs": [],
   "source": []
  },
  {
   "cell_type": "code",
   "execution_count": null,
   "metadata": {},
   "outputs": [],
   "source": []
  },
  {
   "cell_type": "code",
   "execution_count": null,
   "metadata": {},
   "outputs": [],
   "source": []
  },
  {
   "cell_type": "code",
   "execution_count": 5,
   "metadata": {
    "colab": {
     "base_uri": "https://localhost:8080/"
    },
    "id": "PYFlDkETnQkT",
    "outputId": "19cae47e-b1e2-4637-d2c4-a00ba29706cf"
   },
   "outputs": [
    {
     "name": "stdout",
     "output_type": "stream",
     "text": [
      "Training size: 100\n",
      "Test size    : 50\n"
     ]
    }
   ],
   "source": [
    "X_train, X_test, y_train, y_test = train_test_split(iris_X, iris_y, test_size=50)\n",
    "\n",
    "print (\"Training size: %d\" %len(y_train))\n",
    "print (\"Test size    : %d\" %len(y_test))"
   ]
  },
  {
   "cell_type": "code",
   "execution_count": 6,
   "metadata": {},
   "outputs": [
    {
     "name": "stdout",
     "output_type": "stream",
     "text": [
      "[[7.1 3.  5.9 2.1]\n",
      " [6.9 3.1 5.1 2.3]\n",
      " [6.4 2.8 5.6 2.2]\n",
      " [4.8 3.1 1.6 0.2]\n",
      " [6.5 3.  5.8 2.2]\n",
      " [6.4 2.8 5.6 2.1]\n",
      " [5.  3.4 1.6 0.4]\n",
      " [5.6 3.  4.5 1.5]\n",
      " [6.1 2.8 4.7 1.2]\n",
      " [5.2 3.4 1.4 0.2]\n",
      " [5.  2.3 3.3 1. ]\n",
      " [5.6 3.  4.1 1.3]\n",
      " [6.  2.9 4.5 1.5]\n",
      " [4.6 3.2 1.4 0.2]\n",
      " [4.3 3.  1.1 0.1]\n",
      " [7.2 3.6 6.1 2.5]\n",
      " [6.2 2.8 4.8 1.8]\n",
      " [4.8 3.4 1.9 0.2]\n",
      " [6.7 2.5 5.8 1.8]\n",
      " [6.8 3.  5.5 2.1]\n",
      " [5.5 2.3 4.  1.3]\n",
      " [5.7 2.6 3.5 1. ]\n",
      " [7.7 2.8 6.7 2. ]\n",
      " [5.  3.  1.6 0.2]\n",
      " [4.9 3.6 1.4 0.1]\n",
      " [5.2 3.5 1.5 0.2]\n",
      " [6.7 3.3 5.7 2.1]\n",
      " [6.1 2.6 5.6 1.4]\n",
      " [5.5 3.5 1.3 0.2]\n",
      " [5.5 2.4 3.8 1.1]\n",
      " [6.1 3.  4.6 1.4]\n",
      " [4.4 3.2 1.3 0.2]\n",
      " [5.8 2.7 3.9 1.2]\n",
      " [6.  3.4 4.5 1.6]\n",
      " [4.9 3.1 1.5 0.2]\n",
      " [5.1 3.8 1.6 0.2]\n",
      " [6.4 2.9 4.3 1.3]\n",
      " [6.7 3.  5.  1.7]\n",
      " [6.4 2.7 5.3 1.9]\n",
      " [5.5 4.2 1.4 0.2]\n",
      " [6.1 2.9 4.7 1.4]\n",
      " [5.4 3.9 1.3 0.4]\n",
      " [4.4 3.  1.3 0.2]\n",
      " [5.6 2.5 3.9 1.1]\n",
      " [5.9 3.  4.2 1.5]\n",
      " [4.6 3.6 1.  0.2]\n",
      " [5.4 3.4 1.5 0.4]\n",
      " [6.1 3.  4.9 1.8]\n",
      " [6.7 3.1 4.7 1.5]\n",
      " [6.  2.2 4.  1. ]]\n"
     ]
    }
   ],
   "source": [
    "print(X_test)"
   ]
  },
  {
   "cell_type": "code",
   "execution_count": 7,
   "metadata": {},
   "outputs": [
    {
     "name": "stdout",
     "output_type": "stream",
     "text": [
      "[2 2 2 0 2 2 0 1 1 0 1 1 1 0 0 2 2 0 2 2 1 1 2 0 0 0 2 2 0 1 1 0 1 1 0 0 1\n",
      " 1 2 0 1 0 0 1 1 0 0 2 1 1]\n"
     ]
    }
   ],
   "source": [
    "print(y_test)"
   ]
  },
  {
   "cell_type": "code",
   "execution_count": null,
   "metadata": {},
   "outputs": [],
   "source": []
  },
  {
   "cell_type": "code",
   "execution_count": null,
   "metadata": {},
   "outputs": [],
   "source": []
  },
  {
   "cell_type": "code",
   "execution_count": 8,
   "metadata": {
    "colab": {
     "base_uri": "https://localhost:8080/"
    },
    "id": "cSqQaZVEpHuX",
    "outputId": "06481427-545d-40f7-b847-1866c0cde502"
   },
   "outputs": [],
   "source": [
    "clf = neighbors.KNeighborsClassifier(n_neighbors=7, p=2)\n",
    "clf.fit(X_train, y_train)\n",
    "y_pred = clf.predict(X_test)"
   ]
  },
  {
   "cell_type": "code",
   "execution_count": 9,
   "metadata": {},
   "outputs": [
    {
     "name": "stdout",
     "output_type": "stream",
     "text": [
      "[2 2 2 0 2 2 0 1 1 0 1 1 1 0 0 2 2 0 2 2 1 1 2 0 0 0 2 2 0 1 1 0 1 1 0 0 1\n",
      " 2 2 0 1 0 0 1 1 0 0 2 1 1]\n"
     ]
    }
   ],
   "source": [
    "print(y_pred)"
   ]
  },
  {
   "cell_type": "code",
   "execution_count": 10,
   "metadata": {},
   "outputs": [
    {
     "name": "stdout",
     "output_type": "stream",
     "text": [
      "[2 2 2 0 2 2 0 1 1 0 1 1 1 0 0 2 2 0 2 2 1 1 2 0 0 0 2 2 0 1 1 0 1 1 0 0 1\n",
      " 1 2 0 1 0 0 1 1 0 0 2 1 1]\n"
     ]
    }
   ],
   "source": [
    "print(y_test)"
   ]
  },
  {
   "cell_type": "code",
   "execution_count": 11,
   "metadata": {},
   "outputs": [
    {
     "name": "stdout",
     "output_type": "stream",
     "text": [
      "Accuracy of 7-NN with major voting: 98.00 %\n",
      "              precision    recall  f1-score   support\n",
      "\n",
      "           0       1.00      1.00      1.00        18\n",
      "           1       1.00      0.94      0.97        18\n",
      "           2       0.93      1.00      0.97        14\n",
      "\n",
      "    accuracy                           0.98        50\n",
      "   macro avg       0.98      0.98      0.98        50\n",
      "weighted avg       0.98      0.98      0.98        50\n",
      "\n"
     ]
    }
   ],
   "source": [
    "print (\"Accuracy of 7-NN with major voting: %.2f %%\" %(100*accuracy_score(y_test, y_pred)))\n",
    "print(classification_report(y_test, y_pred))"
   ]
  },
  {
   "cell_type": "code",
   "execution_count": 12,
   "metadata": {},
   "outputs": [
    {
     "ename": "NameError",
     "evalue": "name 'kneighbors' is not defined",
     "output_type": "error",
     "traceback": [
      "\u001b[1;31m---------------------------------------------------------------------------\u001b[0m",
      "\u001b[1;31mNameError\u001b[0m                                 Traceback (most recent call last)",
      "Cell \u001b[1;32mIn[12], line 1\u001b[0m\n\u001b[1;32m----> 1\u001b[0m \u001b[43mkneighbors\u001b[49m\n",
      "\u001b[1;31mNameError\u001b[0m: name 'kneighbors' is not defined"
     ]
    }
   ],
   "source": [
    "kneighbors"
   ]
  },
  {
   "cell_type": "code",
   "execution_count": null,
   "metadata": {},
   "outputs": [],
   "source": []
  },
  {
   "cell_type": "code",
   "execution_count": null,
   "metadata": {},
   "outputs": [],
   "source": []
  },
  {
   "cell_type": "code",
   "execution_count": null,
   "metadata": {
    "colab": {
     "base_uri": "https://localhost:8080/"
    },
    "id": "CiSzvWeApbDX",
    "outputId": "43c39d5e-f8ac-41c7-ea0e-a03d8f3bbfe9"
   },
   "outputs": [
    {
     "name": "stdout",
     "output_type": "stream",
     "text": [
      "Accuracy of 10NN with major voting: 98.00 %\n",
      "              precision    recall  f1-score   support\n",
      "\n",
      "           0       1.00      1.00      1.00        11\n",
      "           1       0.95      1.00      0.97        18\n",
      "           2       1.00      0.95      0.98        21\n",
      "\n",
      "    accuracy                           0.98        50\n",
      "   macro avg       0.98      0.98      0.98        50\n",
      "weighted avg       0.98      0.98      0.98        50\n",
      "\n"
     ]
    }
   ],
   "source": [
    "clf = neighbors.KNeighborsClassifier(n_neighbors = 8, p = 2, weights = 'distance')\n",
    "clf.fit(X_train, y_train)\n",
    "y_pred = clf.predict(X_test)\n",
    "\n",
    "print (\"Accuracy of 10NN with major voting: %.2f %%\" %(100*accuracy_score(y_test, y_pred)))\n",
    "print(classification_report(y_test, y_pred))\n"
   ]
  },
  {
   "cell_type": "code",
   "execution_count": null,
   "metadata": {
    "colab": {
     "base_uri": "https://localhost:8080/"
    },
    "id": "dalkz4Joprmo",
    "outputId": "5a486a98-6dcb-4a2b-afdb-f223434d73f6"
   },
   "outputs": [
    {
     "name": "stdout",
     "output_type": "stream",
     "text": [
      "Accuracy of 10NN with major voting: 98.00 %\n",
      "              precision    recall  f1-score   support\n",
      "\n",
      "           0       1.00      1.00      1.00        11\n",
      "           1       0.95      1.00      0.97        18\n",
      "           2       1.00      0.95      0.98        21\n",
      "\n",
      "    accuracy                           0.98        50\n",
      "   macro avg       0.98      0.98      0.98        50\n",
      "weighted avg       0.98      0.98      0.98        50\n",
      "\n"
     ]
    }
   ],
   "source": [
    "def myweight(distances):\n",
    "    sigma2 = .5 # we can change this number\n",
    "    return np.exp(-distances**2/sigma2)\n",
    "\n",
    "clf = neighbors.KNeighborsClassifier(n_neighbors = 8, p = 2, weights = myweight)\n",
    "clf.fit(X_train, y_train)\n",
    "y_pred = clf.predict(X_test)\n",
    "print (\"Accuracy of 10NN with major voting: %.2f %%\" %(100*accuracy_score(y_test, y_pred)))\n",
    "print(classification_report(y_test, y_pred))"
   ]
  },
  {
   "cell_type": "code",
   "execution_count": null,
   "metadata": {
    "id": "PYrtui-CzBj_"
   },
   "outputs": [],
   "source": [
    "df = pd.read_csv('/content/drive/MyDrive/AI Developer 2022   /week 1/TeleCustomers.csv')\n",
    "df.head()"
   ]
  },
  {
   "cell_type": "code",
   "execution_count": null,
   "metadata": {
    "colab": {
     "base_uri": "https://localhost:8080/"
    },
    "id": "0Me0NWBnzdVt",
    "outputId": "a67f6449-2995-49b4-f492-62a069479d7f"
   },
   "outputs": [
    {
     "name": "stdout",
     "output_type": "stream",
     "text": [
      "Accuracy of model at K=4 is 0.32\n"
     ]
    }
   ],
   "source": [
    "X = df.drop(['custcat'], axis = 1)\n",
    "y = df['custcat']\n",
    "from sklearn import preprocessing\n",
    "X = preprocessing.StandardScaler().fit(X).transform(X.astype(float))\n",
    "\n",
    "from sklearn.model_selection import train_test_split\n",
    "X_train, X_test, y_train, y_test = train_test_split( X, y, test_size=0.2, random_state=4)\n",
    "\n",
    "from sklearn.neighbors import KNeighborsClassifier\n",
    "from sklearn import metrics\n",
    "#Train Model and Predict\n",
    "k = 4\n",
    "neigh = KNeighborsClassifier(n_neighbors = k).fit(X_train,y_train)\n",
    "Pred_y = neigh.predict(X_test)\n",
    "print(\"Accuracy of model at K=4 is\",metrics.accuracy_score(y_test, Pred_y))"
   ]
  },
  {
   "cell_type": "code",
   "execution_count": null,
   "metadata": {
    "colab": {
     "base_uri": "https://localhost:8080/",
     "height": 422
    },
    "id": "RouO-eolxaTx",
    "outputId": "0cdb8184-e338-4e16-8bff-0dbe74dbdc1f"
   },
   "outputs": [
    {
     "name": "stdout",
     "output_type": "stream",
     "text": [
      "Minimum error:- 0.615 at K = 37\n"
     ]
    },
    {
     "data": {
      "image/png": "[encoded data removed]",
      "text/plain": [
       "<Figure size 720x432 with 1 Axes>"
      ]
     },
     "metadata": {
      "needs_background": "light"
     },
     "output_type": "display_data"
    }
   ],
   "source": [
    "error_rate = []\n",
    "for i in range(1,40):\n",
    " knn = neighbors.KNeighborsClassifier(n_neighbors=i,weights = 'distance')\n",
    " knn.fit(X_train,y_train)\n",
    " pred_i = knn.predict(X_test)\n",
    " error_rate.append(np.mean(pred_i != y_test))\n",
    "\n",
    "plt.figure(figsize=(10,6))\n",
    "plt.plot(range(1,40),error_rate,color='blue', linestyle='dashed',\n",
    "         marker='o',markerfacecolor='red', markersize=10)\n",
    "plt.title('Error Rate vs. K Value')\n",
    "plt.xlabel('K')\n",
    "plt.ylabel('Error Rate')\n",
    "print(\"Minimum error:-\",min(error_rate),\"at K =\",error_rate.index(min(error_rate)))"
   ]
  },
  {
   "cell_type": "code",
   "execution_count": null,
   "metadata": {
    "colab": {
     "base_uri": "https://localhost:8080/",
     "height": 422
    },
    "id": "cAEXpuIByUay",
    "outputId": "c586f9a1-e62f-4fa5-f056-d1a18980485b"
   },
   "outputs": [
    {
     "name": "stdout",
     "output_type": "stream",
     "text": [
      "Maximum accuracy:- 0.385 at K = 37\n"
     ]
    },
    {
     "data": {
      "image/png": "[encoded data removed]",
      "text/plain": [
       "<Figure size 720x432 with 1 Axes>"
      ]
     },
     "metadata": {
      "needs_background": "light"
     },
     "output_type": "display_data"
    }
   ],
   "source": [
    "acc = []\n",
    "# Will take some time\n",
    "from sklearn import metrics\n",
    "for i in range(1,40):\n",
    "    neigh = neighbors.KNeighborsClassifier(n_neighbors = i,weights = 'distance').fit(X_train,y_train)\n",
    "    yhat = neigh.predict(X_test)\n",
    "    acc.append(metrics.accuracy_score(y_test, yhat))\n",
    "\n",
    "plt.figure(figsize=(10,6))\n",
    "plt.plot(range(1,40),acc,color = 'blue',linestyle='dashed',\n",
    "         marker='o',markerfacecolor='red', markersize=10)\n",
    "plt.title('accuracy vs. K Value')\n",
    "plt.xlabel('K')\n",
    "plt.ylabel('Accuracy')\n",
    "print(\"Maximum accuracy:-\",max(acc),\"at K =\",acc.index(max(acc)))"
   ]
  },
  {
   "cell_type": "code",
   "execution_count": null,
   "metadata": {
    "id": "ZM8cg7TBCr5A"
   },
   "outputs": [],
   "source": [
    "import numpy as np\n",
    "import pandas as pd\n",
    "import matplotlib.pyplot as plt\n",
    "from sklearn.metrics import r2_score\n",
    "from sklearn.model_selection import cross_val_score\n",
    "from sklearn.model_selection import train_test_split\n",
    "from sklearn.preprocessing import StandardScaler\n",
    "\n",
    "from sklearn.linear_model import LinearRegression\n",
    "from sklearn.neighbors import KNeighborsRegressor\n",
    "from sklearn.pipeline import Pipeline\n",
    "pipe_lr = Pipeline([('scl', StandardScaler()),\n",
    "                    ('slr', LinearRegression())])\n",
    "knn_lr = KNeighborsRegressor(n_neighbors = 3)"
   ]
  },
  {
   "cell_type": "code",
   "execution_count": null,
   "metadata": {
    "id": "CVvtx7w_D6cy"
   },
   "outputs": [],
   "source": [
    "df=pd.read_csv(\"/content/drive/MyDrive/AI Developer 2022   /week 1/cruise_ship_info.csv\")\n",
    "df.head()\n",
    "cols_selected = ['Tonnage', 'passengers', 'length', 'cabins','crew']\n",
    "X = df[cols_selected].iloc[:,0:4].values\n",
    "\n",
    "y = df[cols_selected]['crew']\n",
    "sc_y = StandardScaler()\n",
    "train_score_lr = []\n",
    "train_score_knn =  []"
   ]
  },
  {
   "cell_type": "code",
   "execution_count": null,
   "metadata": {
    "colab": {
     "base_uri": "https://localhost:8080/",
     "height": 206
    },
    "id": "zoX_BgGkOBTJ",
    "outputId": "44a1576e-6c39-42e2-dc6b-ae47c41565db"
   },
   "outputs": [
    {
     "data": {
      "text/html": [
       "\n",
       "  <div id=\"df-06edbb00-7ce2-43eb-98a8-b5aefd27f6d5\">\n",
       "    <div class=\"colab-df-container\">\n",
       "      <div>\n",
       "<style scoped>\n",
       "    .dataframe tbody tr th:only-of-type {\n",
       "        vertical-align: middle;\n",
       "    }\n",
       "\n",
       "    .dataframe tbody tr th {\n",
       "        vertical-align: top;\n",
       "    }\n",
       "\n",
       "    .dataframe thead th {\n",
       "        text-align: right;\n",
       "    }\n",
       "</style>\n",
       "<table border=\"1\" class=\"dataframe\">\n",
       "  <thead>\n",
       "    <tr style=\"text-align: right;\">\n",
       "      <th></th>\n",
       "      <th>Ship_name</th>\n",
       "      <th>Cruise_line</th>\n",
       "      <th>Age</th>\n",
       "      <th>Tonnage</th>\n",
       "      <th>passengers</th>\n",
       "      <th>length</th>\n",
       "      <th>cabins</th>\n",
       "      <th>passenger_density</th>\n",
       "      <th>crew</th>\n",
       "    </tr>\n",
       "  </thead>\n",
       "  <tbody>\n",
       "    <tr>\n",
       "      <th>0</th>\n",
       "      <td>Journey</td>\n",
       "      <td>Azamara</td>\n",
       "      <td>6</td>\n",
       "      <td>30.277</td>\n",
       "      <td>6.94</td>\n",
       "      <td>5.94</td>\n",
       "      <td>3.55</td>\n",
       "      <td>42.64</td>\n",
       "      <td>3.55</td>\n",
       "    </tr>\n",
       "    <tr>\n",
       "      <th>1</th>\n",
       "      <td>Quest</td>\n",
       "      <td>Azamara</td>\n",
       "      <td>6</td>\n",
       "      <td>30.277</td>\n",
       "      <td>6.94</td>\n",
       "      <td>5.94</td>\n",
       "      <td>3.55</td>\n",
       "      <td>42.64</td>\n",
       "      <td>3.55</td>\n",
       "    </tr>\n",
       "    <tr>\n",
       "      <th>2</th>\n",
       "      <td>Celebration</td>\n",
       "      <td>Carnival</td>\n",
       "      <td>26</td>\n",
       "      <td>47.262</td>\n",
       "      <td>14.86</td>\n",
       "      <td>7.22</td>\n",
       "      <td>7.43</td>\n",
       "      <td>31.80</td>\n",
       "      <td>6.70</td>\n",
       "    </tr>\n",
       "    <tr>\n",
       "      <th>3</th>\n",
       "      <td>Conquest</td>\n",
       "      <td>Carnival</td>\n",
       "      <td>11</td>\n",
       "      <td>110.000</td>\n",
       "      <td>29.74</td>\n",
       "      <td>9.53</td>\n",
       "      <td>14.88</td>\n",
       "      <td>36.99</td>\n",
       "      <td>19.10</td>\n",
       "    </tr>\n",
       "    <tr>\n",
       "      <th>4</th>\n",
       "      <td>Destiny</td>\n",
       "      <td>Carnival</td>\n",
       "      <td>17</td>\n",
       "      <td>101.353</td>\n",
       "      <td>26.42</td>\n",
       "      <td>8.92</td>\n",
       "      <td>13.21</td>\n",
       "      <td>38.36</td>\n",
       "      <td>10.00</td>\n",
       "    </tr>\n",
       "  </tbody>\n",
       "</table>\n",
       "</div>\n",
       "      <button class=\"colab-df-convert\" onclick=\"convertToInteractive('df-06edbb00-7ce2-43eb-98a8-b5aefd27f6d5')\"\n",
       "              title=\"Convert this dataframe to an interactive table.\"\n",
       "              style=\"display:none;\">\n",
       "        \n",
       "  <svg xmlns=\"http://www.w3.org/2000/svg\" height=\"24px\"viewBox=\"0 0 24 24\"\n",
       "       width=\"24px\">\n",
       "    <path d=\"M0 0h24v24H0V0z\" fill=\"none\"/>\n",
       "    <path d=\"M18.56 5.44l.94 2.06.94-2.06 2.06-.94-2.06-.94-.94-2.06-.94 2.06-2.06.94zm-11 1L8.5 8.5l.94-2.06 2.06-.94-2.06-.94L8.5 2.5l-.94 2.06-2.06.94zm10 10l.94 2.06.94-2.06 2.06-.94-2.06-.94-.94-2.06-.94 2.06-2.06.94z\"/><path d=\"M17.41 7.96l-1.37-1.37c-.4-.4-.92-.59-1.43-.59-.52 0-1.04.2-1.43.59L10.3 9.45l-7.72 7.72c-.78.78-.78 2.05 0 2.83L4 21.41c.39.39.9.59 1.41.59.51 0 1.02-.2 1.41-.59l7.78-7.78 2.81-2.81c.8-.78.8-2.07 0-2.86zM5.41 20L4 18.59l7.72-7.72 1.47 1.35L5.41 20z\"/>\n",
       "  </svg>\n",
       "      </button>\n",
       "      \n",
       "  <style>\n",
       "    .colab-df-container {\n",
       "      display:flex;\n",
       "      flex-wrap:wrap;\n",
       "      gap: 12px;\n",
       "    }\n",
       "\n",
       "    .colab-df-convert {\n",
       "      background-color: #E8F0FE;\n",
       "      border: none;\n",
       "      border-radius: 50%;\n",
       "      cursor: pointer;\n",
       "      display: none;\n",
       "      fill: #1967D2;\n",
       "      height: 32px;\n",
       "      padding: 0 0 0 0;\n",
       "      width: 32px;\n",
       "    }\n",
       "\n",
       "    .colab-df-convert:hover {\n",
       "      background-color: #E2EBFA;\n",
       "      box-shadow: 0px 1px 2px rgba(60, 64, 67, 0.3), 0px 1px 3px 1px rgba(60, 64, 67, 0.15);\n",
       "      fill: #174EA6;\n",
       "    }\n",
       "\n",
       "    [theme=dark] .colab-df-convert {\n",
       "      background-color: #3B4455;\n",
       "      fill: #D2E3FC;\n",
       "    }\n",
       "\n",
       "    [theme=dark] .colab-df-convert:hover {\n",
       "      background-color: #434B5C;\n",
       "      box-shadow: 0px 1px 3px 1px rgba(0, 0, 0, 0.15);\n",
       "      filter: drop-shadow(0px 1px 2px rgba(0, 0, 0, 0.3));\n",
       "      fill: #FFFFFF;\n",
       "    }\n",
       "  </style>\n",
       "\n",
       "      <script>\n",
       "        const buttonEl =\n",
       "          document.querySelector('#df-06edbb00-7ce2-43eb-98a8-b5aefd27f6d5 button.colab-df-convert');\n",
       "        buttonEl.style.display =\n",
       "          google.colab.kernel.accessAllowed ? 'block' : 'none';\n",
       "\n",
       "        async function convertToInteractive(key) {\n",
       "          const element = document.querySelector('#df-06edbb00-7ce2-43eb-98a8-b5aefd27f6d5');\n",
       "          const dataTable =\n",
       "            await google.colab.kernel.invokeFunction('convertToInteractive',\n",
       "                                                     [key], {});\n",
       "          if (!dataTable) return;\n",
       "\n",
       "          const docLinkHtml = 'Like what you see? Visit the ' +\n",
       "            '<a target=\"_blank\" href=https://colab.research.google.com/notebooks/data_table.ipynb>data table notebook</a>'\n",
       "            + ' to learn more about interactive tables.';\n",
       "          element.innerHTML = '';\n",
       "          dataTable['output_type'] = 'display_data';\n",
       "          await google.colab.output.renderOutput(dataTable, element);\n",
       "          const docLink = document.createElement('div');\n",
       "          docLink.innerHTML = docLinkHtml;\n",
       "          element.appendChild(docLink);\n",
       "        }\n",
       "      </script>\n",
       "    </div>\n",
       "  </div>\n",
       "  "
      ],
      "text/plain": [
       "     Ship_name Cruise_line  Age  Tonnage  passengers  length  cabins  \\\n",
       "0      Journey     Azamara    6   30.277        6.94    5.94    3.55   \n",
       "1        Quest     Azamara    6   30.277        6.94    5.94    3.55   \n",
       "2  Celebration    Carnival   26   47.262       14.86    7.22    7.43   \n",
       "3     Conquest    Carnival   11  110.000       29.74    9.53   14.88   \n",
       "4      Destiny    Carnival   17  101.353       26.42    8.92   13.21   \n",
       "\n",
       "   passenger_density   crew  \n",
       "0              42.64   3.55  \n",
       "1              42.64   3.55  \n",
       "2              31.80   6.70  \n",
       "3              36.99  19.10  \n",
       "4              38.36  10.00  "
      ]
     },
     "execution_count": 6,
     "metadata": {},
     "output_type": "execute_result"
    }
   ],
   "source": [
    "df.head()"
   ]
  },
  {
   "cell_type": "code",
   "execution_count": null,
   "metadata": {
    "id": "Lxgl8BZIFqTj"
   },
   "outputs": [],
   "source": [
    "n = 15\n",
    "for i in range(n):\n",
    "    X_train, X_test, y_train, y_test = train_test_split( X, y,\n",
    "                                      test_size=0.3, random_state=i)\n",
    "    y_train_std = sc_y.fit_transform(y_train[:,\n",
    "                                      np.newaxis]).flatten()\n",
    "    train_score_lr = np.append(train_score_lr,\n",
    "                               np.mean(cross_val_score(pipe_lr,\n",
    "                               X_train, y_train_std,\n",
    "                               scoring ='r2' , cv = 10)))\n",
    "    train_score_knn = np.append(train_score_knn,\n",
    "                                np.mean(cross_val_score(knn_lr,\n",
    "                                X_train, y_train_std,\n",
    "                                scoring ='r2' , cv = 10)))\n",
    "train_mean_lr = np.mean(train_score_lr)\n",
    "train_std_lr = np.std(train_score_lr)\n",
    "train_mean_knn = np.mean(train_score_knn)\n",
    "train_std_knn = np.std(train_score_knn)\n",
    "print('R2 train for lr: %.3f +/- %.3f' %\n",
    "                             (train_mean_lr,train_std_lr))\n",
    "print('R2 train for knn_lr: %.3f +/- %.3f' %\n",
    "                             (train_mean_knn,train_std_knn))"
   ]
  },
  {
   "cell_type": "code",
   "execution_count": null,
   "metadata": {
    "colab": {
     "base_uri": "https://localhost:8080/",
     "height": 681
    },
    "id": "wd6JdPiTOQSx",
    "outputId": "6755ec86-f2fd-4ca4-fb50-a3dfb7a1d57d"
   },
   "outputs": [
    {
     "data": {
      "image/png": "[encoded data removed]",
      "text/plain": [
       "<Figure size 1080x792 with 1 Axes>"
      ]
     },
     "metadata": {
      "needs_background": "light"
     },
     "output_type": "display_data"
    }
   ],
   "source": [
    "import matplotlib.pyplot as plt\n",
    "\n",
    "plt.figure(figsize=(15,11))\n",
    "plt.plot(range(n),train_score_lr,color='blue', linestyle='dashed',\n",
    "         marker='o',markerfacecolor='blue', markersize=10,\n",
    "         label='linear regression')\n",
    "plt.fill_between(range(n),\n",
    "                 train_score_lr + train_std_lr,\n",
    "                 train_score_lr - train_std_lr,\n",
    "                 alpha=0.15, color='blue')\n",
    "plt.plot(range(n),train_score_knn,color='green', linestyle='dashed',\n",
    "         marker='s',markerfacecolor='green', markersize=10,\n",
    "         label = 'Kneighbors regression')\n",
    "plt.fill_between(range(n),\n",
    "                 train_score_knn + train_std_knn,\n",
    "                 train_score_knn - train_std_knn,\n",
    "                 alpha=0.15, color='green')\n",
    "plt.grid()\n",
    "plt.ylim(0.7,1)\n",
    "plt.title('Mean cross-validation R2 score vs. random state parameter', size = 14)\n",
    "plt.xlabel('Random state parameter', size = 14)\n",
    "plt.ylabel('Mean cross-validation R2 score', size = 14)\n",
    "plt.legend()\n",
    "plt.show()"
   ]
  },
  {
   "cell_type": "code",
   "execution_count": null,
   "metadata": {
    "id": "EsG4RaN-PfpN"
   },
   "outputs": [],
   "source": [
    "import csv\n",
    "import numpy as np\n",
    "import math"
   ]
  },
  {
   "cell_type": "code",
   "execution_count": null,
   "metadata": {
    "id": "7wBTO0v9Piil"
   },
   "outputs": [],
   "source": [
    "def loadData(path):\n",
    "    f = open(path, \"r\")\n",
    "    data = csv.reader(f) #csv format\n",
    "    data = np.array(list(data))# covert to matrix\n",
    "    data = np.delete(data, 0, 0)# delete header\n",
    "    data = np.delete(data, 0, 1) # delete index\n",
    "    np.random.shuffle(data) # shuffle data\n",
    "    f.close()\n",
    "    trainSet = data[:100] #training data from 1->100\n",
    "    testSet = data[100:]# the others is testing data\n",
    "    return trainSet, testSet"
   ]
  },
  {
   "cell_type": "code",
   "execution_count": null,
   "metadata": {
    "id": "DiWralVvPmk2"
   },
   "outputs": [],
   "source": [
    "def calcDistancs(pointA, pointB, numOfFeature=4):\n",
    "    tmp = 0\n",
    "    for i in range(numOfFeature):\n",
    "        tmp += (float(pointA[i]) - float(pointB[i])) ** 2\n",
    "    return math.sqrt(tmp)"
   ]
  },
  {
   "cell_type": "code",
   "execution_count": null,
   "metadata": {
    "id": "dO9XA7jkPzeY"
   },
   "outputs": [],
   "source": [
    "def kNearestNeighbor(trainSet, point, k):\n",
    "    distances = []\n",
    "    for item in trainSet:\n",
    "        distances.append({\n",
    "            \"label\": item[-1],\n",
    "            \"value\": calcDistancs(item, point)\n",
    "        })\n",
    "    distances.sort(key=lambda x: x[\"value\"])\n",
    "    labels = [item[\"label\"] for item in distances]\n",
    "    return labels[:k]"
   ]
  },
  {
   "cell_type": "code",
   "execution_count": null,
   "metadata": {
    "id": "YORT9p1oQFan"
   },
   "outputs": [],
   "source": [
    "def findMostOccur(arr):\n",
    "    labels = set(arr) # set label\n",
    "    ans = \"\"\n",
    "    maxOccur = 0\n",
    "    for label in labels:\n",
    "        num = arr.count(label)\n",
    "        if num > maxOccur:\n",
    "            maxOccur = num\n",
    "            ans = label\n",
    "    return ans"
   ]
  },
  {
   "cell_type": "code",
   "execution_count": null,
   "metadata": {
    "colab": {
     "base_uri": "https://localhost:8080/"
    },
    "id": "_cu3SsogQLnz",
    "outputId": "2847ff15-b2dc-4d13-d475-4fa7f3bbcd57"
   },
   "outputs": [
    {
     "name": "stdout",
     "output_type": "stream",
     "text": [
      "500\n",
      "label: Iris-versicolor -> predicted: Iris-versicolor\n",
      "label: Iris-versicolor -> predicted: Iris-versicolor\n",
      "label: Iris-virginica -> predicted: Iris-virginica\n",
      "label: Iris-versicolor -> predicted: Iris-virginica\n",
      "label: Iris-virginica -> predicted: Iris-virginica\n",
      "label: Iris-setosa -> predicted: Iris-setosa\n",
      "label: Iris-versicolor -> predicted: Iris-virginica\n",
      "label: Iris-setosa -> predicted: Iris-setosa\n",
      "label: Iris-versicolor -> predicted: Iris-versicolor\n",
      "label: Iris-versicolor -> predicted: Iris-versicolor\n",
      "label: Iris-versicolor -> predicted: Iris-versicolor\n",
      "label: Iris-versicolor -> predicted: Iris-versicolor\n",
      "label: Iris-virginica -> predicted: Iris-virginica\n",
      "label: Iris-virginica -> predicted: Iris-virginica\n",
      "label: Iris-versicolor -> predicted: Iris-versicolor\n",
      "label: Iris-virginica -> predicted: Iris-virginica\n",
      "label: Iris-setosa -> predicted: Iris-setosa\n",
      "label: Iris-virginica -> predicted: Iris-virginica\n",
      "label: Iris-virginica -> predicted: Iris-virginica\n",
      "label: Iris-setosa -> predicted: Iris-setosa\n",
      "label: Iris-versicolor -> predicted: Iris-versicolor\n",
      "label: Iris-setosa -> predicted: Iris-setosa\n",
      "label: Iris-versicolor -> predicted: Iris-versicolor\n",
      "label: Iris-virginica -> predicted: Iris-virginica\n",
      "label: Iris-versicolor -> predicted: Iris-versicolor\n",
      "label: Iris-versicolor -> predicted: Iris-versicolor\n",
      "label: Iris-setosa -> predicted: Iris-setosa\n",
      "label: Iris-setosa -> predicted: Iris-setosa\n",
      "label: Iris-versicolor -> predicted: Iris-versicolor\n",
      "label: Iris-virginica -> predicted: Iris-virginica\n",
      "label: Iris-versicolor -> predicted: Iris-versicolor\n",
      "label: Iris-setosa -> predicted: Iris-setosa\n",
      "label: Iris-setosa -> predicted: Iris-setosa\n",
      "label: Iris-setosa -> predicted: Iris-setosa\n",
      "label: Iris-virginica -> predicted: Iris-virginica\n",
      "label: Iris-versicolor -> predicted: Iris-versicolor\n",
      "label: Iris-virginica -> predicted: Iris-virginica\n",
      "label: Iris-virginica -> predicted: Iris-virginica\n",
      "label: Iris-versicolor -> predicted: Iris-versicolor\n",
      "label: Iris-setosa -> predicted: Iris-setosa\n",
      "label: Iris-setosa -> predicted: Iris-setosa\n",
      "label: Iris-setosa -> predicted: Iris-setosa\n",
      "label: Iris-virginica -> predicted: Iris-virginica\n",
      "label: Iris-versicolor -> predicted: Iris-versicolor\n",
      "label: Iris-setosa -> predicted: Iris-setosa\n",
      "label: Iris-versicolor -> predicted: Iris-versicolor\n",
      "label: Iris-virginica -> predicted: Iris-virginica\n",
      "label: Iris-setosa -> predicted: Iris-setosa\n",
      "label: Iris-setosa -> predicted: Iris-setosa\n",
      "label: Iris-versicolor -> predicted: Iris-versicolor\n"
     ]
    }
   ],
   "source": [
    "if __name__ == \"__main__\":\n",
    "    trainSet, testSet = loadData(\"/content/drive/MyDrive/AI Developer 2022   /week 1/Iris.csv\")\n",
    "    print(trainSet.size)\n",
    "    for item in testSet:\n",
    "        knn = kNearestNeighbor(trainSet, item, 5)\n",
    "        answer = findMostOccur(knn)\n",
    "        print(\"label: {} -> predicted: {}\".format(item[-1], answer))"
   ]
  },
  {
   "cell_type": "code",
   "execution_count": null,
   "metadata": {
    "id": "XOWO8B3nyigg"
   },
   "outputs": [],
   "source": [
    "#Required Libraries\n",
    "import os\n",
    "import math\n",
    "import numpy as np\n",
    "import pandas as pd\n",
    "import matplotlib.pyplot as plt\n",
    "from sklearn.model_selection import train_test_split\n",
    "from sklearn.metrics import confusion_matrix\n",
    "from sklearn.metrics import accuracy_score\n",
    "from sklearn.neighbors import KNeighborsClassifier\n",
    "import warnings\n",
    "warnings.filterwarnings('ignore')"
   ]
  },
  {
   "cell_type": "code",
   "execution_count": null,
   "metadata": {
    "id": "EVVSY_-Sy3L5"
   },
   "outputs": [],
   "source": [
    "penguin= pd.read_csv(\"/content/drive/MyDrive/AI Developer 2022   /week 1/penguins.csv\")\n",
    "penguin.head(2)"
   ]
  },
  {
   "cell_type": "code",
   "execution_count": null,
   "metadata": {
    "id": "dOJMptUKy-fp"
   },
   "outputs": [],
   "source": [
    "x = penguin[['culmen_length_mm','culmen_depth_mm','flipper_length_mm','body_mass_g']]\n",
    "y = penguin[['species']]"
   ]
  },
  {
   "cell_type": "code",
   "execution_count": null,
   "metadata": {
    "id": "IBwwWLJazB_i"
   },
   "outputs": [],
   "source": [
    "np.random.seed(0)\n",
    "X_train, X_test, y_train, y_test = train_test_split(x, y,test_size = 0.2, stratify = y,random_state = 4)\n",
    "X_test = np.array(X_test)\n",
    "X_train = np.array(X_train)\n",
    "y_train = np.array(y_train)\n",
    "y_test = np.array(y_test)"
   ]
  },
  {
   "cell_type": "code",
   "execution_count": null,
   "metadata": {
    "id": "1iuB2uFczQIQ"
   },
   "outputs": [],
   "source": [
    "def knn_modified(X_train,y_train,X_test,k):\n",
    "    pred = []\n",
    "    for j in range(len(X_test)):\n",
    "        distance = []\n",
    "        min_dist = math.inf\n",
    "        for i in range(len(X_train)):\n",
    "            eulidean_distance = np.sqrt(np.sum((X_test[j,] - X_train[i,])**2))\n",
    "            if eulidean_distance < min_dist:\n",
    "                distance.append((eulidean_distance, i))\n",
    "            else:\n",
    "                continue\n",
    "\n",
    "        #Sort the list by distance\n",
    "        distance.sort()\n",
    "\n",
    "        #Get the row index of its nearest neighbour\n",
    "        neighbours = []\n",
    "\n",
    "        for j in range(k):\n",
    "            neighbours.append(distance[j][1])\n",
    "\n",
    "        #Append the actual target in a list\n",
    "        target = []\n",
    "        for l in range(k):\n",
    "            target.append(np.array(y_train)[neighbours[l]][0])\n",
    "\n",
    "        #Create a function for counting\n",
    "        count = {}\n",
    "        for t in target:\n",
    "            count[t] = count.get(t,0) + 1\n",
    "\n",
    "        #Create a list with (value, key) pair\n",
    "        pairs = []\n",
    "        for key in count:\n",
    "            pairs.append((count[key], key))\n",
    "\n",
    "        #Sort the pair and get the most occurring word\n",
    "        pairs.sort(reverse=True)\n",
    "        if k%2 == 0:\n",
    "            even = []\n",
    "            for i in range(0,len(pairs)):\n",
    "                if pairs[0][0] == pairs[i][0]:\n",
    "                    even.append(pairs[i][1])\n",
    "            #print('Arranging in decreasing order: ',even)\n",
    "            for j in neighbours:\n",
    "                if y_train[j][0] in even:\n",
    "                    pred.append(y_train[j][0])\n",
    "                    #print('Value with the least distance classifies: ',y_train[j][0])\n",
    "                    #print('Picking classifier based on least distance: ',y_train[j][0])\n",
    "                    break\n",
    "                else:\n",
    "                    pred.append(pairs[0][1])\n",
    "                    break\n",
    "        else:\n",
    "            pred.append(pairs[0][1])\n",
    "\n",
    "    return(pred)"
   ]
  },
  {
   "cell_type": "code",
   "execution_count": null,
   "metadata": {
    "id": "NZuTcI8KzRYk"
   },
   "outputs": [],
   "source": [
    "n = 2\n",
    "pred = knn_modified(X_train,y_train,X_test,k=n)"
   ]
  },
  {
   "cell_type": "code",
   "execution_count": null,
   "metadata": {
    "id": "4uydCLQHzVtD"
   },
   "outputs": [],
   "source": [
    "neighbors = list(range(1,11))\n",
    "\n",
    "scores = []\n",
    "\n",
    "for k in neighbors:\n",
    "    knn = KNeighborsClassifier(n_neighbors=k,algorithm='brute', metric='euclidean')\n",
    "    pred1 = knn.fit(X_train, y_train)\n",
    "    pred = pred1.predict(X_test)\n",
    "    accuracy =  accuracy_score(y_test, pred)\n",
    "    scores.append(accuracy)\n",
    "scores1 = []\n",
    "neighbors = list(range(1,11))\n",
    "for i in neighbors:\n",
    "    pred = knn_modified(X_train,y_train,X_test,k=i)\n",
    "    accuracy =  accuracy_score(y_test, pred)\n",
    "    scores1.append(accuracy)"
   ]
  },
  {
   "cell_type": "code",
   "execution_count": null,
   "metadata": {
    "colab": {
     "base_uri": "https://localhost:8080/",
     "height": 350
    },
    "id": "6JslZBOuzfyX",
    "outputId": "1c7a83b4-5697-49b4-f2d6-ee5ad79a1c7b"
   },
   "outputs": [
    {
     "data": {
      "image/png": "[encoded data removed]",
      "text/plain": [
       "<Figure size 720x360 with 2 Axes>"
      ]
     },
     "metadata": {
      "needs_background": "light"
     },
     "output_type": "display_data"
    }
   ],
   "source": [
    "MSE = [ x for x in scores]\n",
    "plt.figure(figsize=(10, 5))\n",
    "MSE1 = [ x for x in scores1]\n",
    "plt.subplot(1,2,1)\n",
    "plt.plot(neighbors, MSE)\n",
    "plt.xlabel('Number of Neighbors K')\n",
    "plt.ylabel('Accuracy')\n",
    "plt.title('KNN')\n",
    "plt.subplot(1,2,2)\n",
    "plt.plot(neighbors, MSE1)\n",
    "plt.xlabel('Number of Neighbors K')\n",
    "plt.ylabel('Accuracy')\n",
    "plt.title('KNN')\n",
    "plt.show()"
   ]
  }
 ],
 "metadata": {
  "colab": {
   "provenance": []
  },
  "kernelspec": {
   "display_name": "Python 3 (ipykernel)",
   "language": "python",
   "name": "python3"
  },
  "language_info": {
   "codemirror_mode": {
    "name": "ipython",
    "version": 3
   },
   "file_extension": ".py",
   "mimetype": "text/x-python",
   "name": "python",
   "nbconvert_exporter": "python",
   "pygments_lexer": "ipython3",
   "version": "3.12.1"
  }
 },
 "nbformat": 4,
 "nbformat_minor": 1
}
