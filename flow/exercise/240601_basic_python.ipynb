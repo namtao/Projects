{
 "cells": [
  {
   "cell_type": "markdown",
   "metadata": {},
   "source": [
    "# Basic Python"
   ]
  },
  {
   "cell_type": "markdown",
   "metadata": {},
   "source": [
    "## Rubric"
   ]
  },
  {
   "cell_type": "markdown",
   "metadata": {},
   "source": [
    "<table>\n",
    "    <tr>\n",
    "        <th>STT</th>\n",
    "        <th>Kiến thức</th>\n",
    "        <th>Đánh giá</th>\n",
    "    </tr>\n",
    "    <tr>\n",
    "        <td>1</td>\n",
    "        <td>Hiểu được cách sử dụng Python để tính toán F1-Score và giới thiệu cơ bản đánh giá mô hình bằng F1-Score.\n",
    "        </td>\n",
    "        <td>Có khả năng viết function và xử lý lỗi khi code Python tính F1-Score, thể hiện sự hiểu biết về thực hiện\n",
    "            code theo một công thức cho trước.</td>\n",
    "    </tr>\n",
    "    <tr>\n",
    "        <td> 2</td>\n",
    "        <td> Nắm được cách thức cài đặt các hàm kích hoạt như sigmoid, relu và elu trong Python.</td>\n",
    "        <td>Thể hiện khả năng thực hiện các hàm này trong môi trường lập trình Python, phù hợp cho các ứng dụng AI.</td>\n",
    "    </tr>\n",
    "    <tr>\n",
    "        <td>3</td>\n",
    "        <td>Hiểu rõ cách thực hiện các hàm regression loss phổ biến trong Python để tính toán loss cho các bài toán\n",
    "            regression.</td>\n",
    "        <td>Thể hiện khả năng cài đặt các hàm loss đa dạng trong môi trường lập trình Python, phù hợp để tính toán loss\n",
    "            trong các bài toán regression</td>\n",
    "    </tr>\n",
    "    <tr>\n",
    "        <td>4</td>\n",
    "        <td>Tìm hiểu về các phương pháp lập trình Python để ước lượng giá trị hàm số.</td>\n",
    "        <td>Có khả năng lập trình Python để mô phỏng các hàm số, áp dụng hiệu quả trong các bài toán tính toán.</td>\n",
    "    </tr>\n",
    "    <tr>\n",
    "        <td>5</td>\n",
    "        <td>Hiểu được cách xây dựng và sử dụng các chỉ số đánh giá mô hình nâng cao trong Python.</td>\n",
    "        <td>Thực hiện thành thạo các tính toán error phức tạp trong việc sử dụng Python để cải thiện hiệu suất mô hình.\n",
    "        </td>\n",
    "    </tr>\n",
    "</table>"
   ]
  },
  {
   "cell_type": "markdown",
   "metadata": {},
   "source": [
    "## Exercise"
   ]
  },
  {
   "cell_type": "markdown",
   "metadata": {},
   "source": [
    "### Câu hỏi 1 :\n",
    "\n",
    "Viết function thực hiện đánh giá classification model bằng F1-Score. Function nhận vào 3\n",
    "giá trị TP, FP, FN và trả về F1-score\n",
    "\n",
    "• Precision = $\\frac{TP}{TP + FP}$\n",
    "\n",
    "• Recall = $\\frac{TP}{TP + FN}$\n",
    "\n",
    "• F1-score = $2 * \\frac{Precision * Recall}{Precision + Recall}$"
   ]
  },
  {
   "cell_type": "code",
   "execution_count": 5,
   "metadata": {},
   "outputs": [
    {
     "name": "stdout",
     "output_type": "stream",
     "text": [
      "0.31\n"
     ]
    }
   ],
   "source": [
    "import math\n",
    "\n",
    "\n",
    "def calc_f1_score(tp: float, fp: float, fn: float) -> float:\n",
    "    precision = tp / (tp + fp)\n",
    "    recall = tp / (tp + fn)\n",
    "    f1_score = 2 * (precision * recall) / (precision + recall)\n",
    "    return f1_score\n",
    "\n",
    "\n",
    "assert round(calc_f1_score(tp=2, fp=3, fn=5), 2) == 0.33\n",
    "print(round(calc_f1_score(tp=2, fp=4, fn=5), 2))"
   ]
  },
  {
   "cell_type": "markdown",
   "metadata": {},
   "source": [
    "### Câu hỏi 2:\n",
    "\n",
    "Viết function is_number nhận input có thể là string hoặc một số kiểm tra n (một số) có hợp lệ hay không (vd: n=’10’, is_number(n) sẽ trả về True ngược lại là False). Đầu ra của chương trình sau đây là gì?"
   ]
  },
  {
   "cell_type": "code",
   "execution_count": 26,
   "metadata": {},
   "outputs": [
    {
     "name": "stdout",
     "output_type": "stream",
     "text": [
      "True\n",
      "False\n"
     ]
    }
   ],
   "source": [
    "import math\n",
    "\n",
    "\n",
    "def is_number(n) -> bool:\n",
    "    return str(n).isnumeric()\n",
    "\n",
    "\n",
    "assert is_number(3) == 1.0\n",
    "assert is_number(\"-2a\") == 0.0\n",
    "print(is_number(1))\n",
    "print(is_number(\"n\"))"
   ]
  },
  {
   "cell_type": "markdown",
   "metadata": {},
   "source": [
    "### Câu hỏi 3:\n",
    "\n",
    "Đoạn code dưới đây đang thực hiện activation function nào?\n",
    "\n",
    "```\n",
    "x = -2.0\n",
    "if x <=0:\n",
    "    y = 0.0\n",
    "else :\n",
    "    y = x\n",
    "print ( y )\n",
    ">> 0.0\n",
    "```"
   ]
  },
  {
   "cell_type": "markdown",
   "metadata": {},
   "source": [
    "$$ Sigmoid(x) = \\frac{1}{1 + e^{-x}}$$"
   ]
  },
  {
   "cell_type": "markdown",
   "metadata": {},
   "source": [
    "$$ ReLU(x) = \\begin{cases}\n",
    "0 & \\text{ if } x\\leqslant 0 \\\\ \n",
    "x & \\text{ if } x > 0 \n",
    "\\end{cases} $$"
   ]
  },
  {
   "cell_type": "markdown",
   "metadata": {},
   "source": [
    "$$ ELU(x) = \\begin{cases}\n",
    "\\alpha(e^x - 1) & \\text{ if } x\\leqslant 0 \\\\ \n",
    "x & \\text{ if } x > 0 \n",
    "\\end{cases}$$"
   ]
  },
  {
   "cell_type": "markdown",
   "metadata": {},
   "source": [
    "### Câu hỏi 4:\n",
    "\n",
    "Viết function thực hiện Sigmoid Function f(x) = $\\frac{1}{1 + e^{-x}}$. Nhận input là x và return kết quả tương ứng trong Sigmoid Function. Đầu ra của chương trình sau đây là gì?"
   ]
  },
  {
   "cell_type": "code",
   "execution_count": 12,
   "metadata": {},
   "outputs": [
    {
     "name": "stdout",
     "output_type": "stream",
     "text": [
      "0.88\n"
     ]
    }
   ],
   "source": [
    "import math\n",
    "\n",
    "\n",
    "def calc_sig(x):\n",
    "    return 1 / (1 + pow(math.e, -x))\n",
    "\n",
    "\n",
    "assert round(calc_sig(3), 2) == 0.95\n",
    "print(round(calc_sig(2), 2))"
   ]
  },
  {
   "cell_type": "markdown",
   "metadata": {},
   "source": [
    "### Câu hỏi 5:\n",
    "\n",
    "Viết function thực hiện Elu Function $f(x) = \\begin{cases}\n",
    "\\alpha(e^x - 1) & \\text{ if } x\\leqslant 0 \\\\ \n",
    "x & \\text{ if } x > 0 \n",
    "\\end{cases}$. Nhận input là x và return kết quả tương ứng trong Elu Function. Đầu ra của chương trình sau đây là gì khi α = 0.01?"
   ]
  },
  {
   "cell_type": "code",
   "execution_count": 13,
   "metadata": {},
   "outputs": [
    {
     "name": "stdout",
     "output_type": "stream",
     "text": [
      "-0.01\n"
     ]
    }
   ],
   "source": [
    "import math\n",
    "\n",
    "\n",
    "def calc_elu(x):\n",
    "    if x <= 0:\n",
    "        return 0.01 * (pow(math.e, x) - 1)\n",
    "    else:\n",
    "        return x\n",
    "\n",
    "\n",
    "assert round(calc_elu(1)) == 1\n",
    "print(round(calc_elu(-1), 2))"
   ]
  },
  {
   "cell_type": "markdown",
   "metadata": {},
   "source": [
    "### Câu hỏi 6:\n",
    "\n",
    "Viết function nhận 2 giá trị x, và tên của activation function act_name activation function chỉ có 3 loại (sigmoid, relu, elu), thực hiện tính toán activation function tương ứng với name nhận được trên giá trị của x và trả kết quả. Đầu ra của chương trình sau đây là gì?"
   ]
  },
  {
   "cell_type": "code",
   "execution_count": 15,
   "metadata": {},
   "outputs": [
    {
     "name": "stdout",
     "output_type": "stream",
     "text": [
      "0.95\n"
     ]
    }
   ],
   "source": [
    "import math\n",
    "\n",
    "\n",
    "def calc_activation_func(x, act_name):\n",
    "    if act_name == \"sigmoid\":\n",
    "        return 1 / (1 + math.exp(-x))\n",
    "    elif act_name == \"relu\":\n",
    "        return max(0, x)\n",
    "    elif act_name == \"elu\":\n",
    "        return calc_elu(x)\n",
    "    else:\n",
    "        raise ValueError(\"Invalid activation function name\")\n",
    "\n",
    "\n",
    "assert calc_activation_func(x=1, act_name=\"relu\") == 1\n",
    "print(round(calc_activation_func(x=3, act_name=\"sigmoid\"), 2))"
   ]
  },
  {
   "cell_type": "markdown",
   "metadata": {},
   "source": [
    "### Câu hỏi 7:\n",
    "\n",
    "Viết function tính absolute $error = |y - \\hat{y}|$. Nhận input là $y$ và $\\hat{y}$, return về kết quả absolute error tương ứng. Đầu ra của chương trình sau đây là gì?"
   ]
  },
  {
   "cell_type": "code",
   "execution_count": 16,
   "metadata": {},
   "outputs": [
    {
     "name": "stdout",
     "output_type": "stream",
     "text": [
      "7\n"
     ]
    }
   ],
   "source": [
    "def calc_ae(y, y_hat):\n",
    "    return abs(y - y_hat)\n",
    "\n",
    "\n",
    "y = 1\n",
    "y_hat = 6\n",
    "assert calc_ae(y, y_hat) == 5\n",
    "y = 2\n",
    "y_hat = 9\n",
    "print(calc_ae(y, y_hat))"
   ]
  },
  {
   "cell_type": "markdown",
   "metadata": {},
   "source": [
    "### Câu hỏi 8:\n",
    "\n",
    "Viết function tính squared $error = {(y-\\hat{y})}^2 $. Nhận input là $y$ và $\\hat{y}$, return về kết quả squared error tương ứng. Đầu ra của chương trình sau đây là gì?"
   ]
  },
  {
   "cell_type": "code",
   "execution_count": 18,
   "metadata": {},
   "outputs": [
    {
     "name": "stdout",
     "output_type": "stream",
     "text": [
      "1\n"
     ]
    }
   ],
   "source": [
    "def calc_se(y, y_hat):\n",
    "    return (y - y_hat) ** 2\n",
    "\n",
    "\n",
    "y = 4\n",
    "y_hat = 2\n",
    "assert calc_se(y, y_hat) == 4\n",
    "print(calc_se(2, 1))"
   ]
  },
  {
   "cell_type": "markdown",
   "metadata": {},
   "source": [
    "### Câu hỏi 9:\n",
    "\n",
    "Dựa vào công thức xấp xỉ cos và điều kiện được giới thiệu $cos (x) \\approx \\sum_{n=0}^{\\infty}(-1)^n\\frac{x^{2n}}{(2n)!}$. Viết function xấp xỉ cos khi nhận x là giá trị muốn tính cos(x) và n là số lần lặp muốn xấp xỉ. Return về kết quả cos(x) với bậc xấp xỉ tương ứng. Đầu ra của chương trình sau đây là gì?"
   ]
  },
  {
   "cell_type": "code",
   "execution_count": 35,
   "metadata": {},
   "outputs": [
    {
     "name": "stdout",
     "output_type": "stream",
     "text": [
      "-1.0\n"
     ]
    }
   ],
   "source": [
    "def approx_cos(x, n):\n",
    "    cos_x = 0\n",
    "    for i in range(n):\n",
    "        cos_x += ((-1) ** i) * (x ** (2 * i)) / math.factorial(2 * i)\n",
    "    return cos_x\n",
    "\n",
    "\n",
    "assert round(approx_cos(x=1, n=10), 2) == 0.54\n",
    "print(round(approx_cos(x=3.14, n=10), 2))"
   ]
  },
  {
   "cell_type": "markdown",
   "metadata": {},
   "source": [
    "### Câu hỏi 10:\n",
    "\n",
    "Dựa vào công thức xấp xỉ sin và điều kiện được giới thiệu $sin (x) \\approx \\sum_{n=0}^{\\infty}(-1)^n\\frac{x^{2n+1}}{(2n+1)!}$. Viết function xấp xỉ sin khi nhận x là giá trị muốn tính sin(x) và n là số lần lặp muốn xấp xỉ. Return về kết quả sin(x) với bậc xấp xỉ tương ứng. Đầu ra của chương trình sau đây là gì?"
   ]
  },
  {
   "cell_type": "code",
   "execution_count": 36,
   "metadata": {},
   "outputs": [
    {
     "name": "stdout",
     "output_type": "stream",
     "text": [
      "0.0016\n"
     ]
    }
   ],
   "source": [
    "def approx_sin(x, n):\n",
    "    sin_x = 0\n",
    "    for i in range(n):\n",
    "        sin_x += ((-1) ** i) * (x ** (2 * i + 1)) / math.factorial(2 * i + 1)\n",
    "    return sin_x\n",
    "\n",
    "\n",
    "assert round(approx_sin(x=1, n=10), 4) == 0.8415\n",
    "print(round(approx_sin(x=3.14, n=10), 4))"
   ]
  },
  {
   "cell_type": "markdown",
   "metadata": {},
   "source": [
    "### Câu hỏi 11:\n",
    "\n",
    "Dựa vào công thức xấp xỉ sinh và điều kiện được giới thiệu $sinh (x) \\approx \\sum_{n=0}^{\\infty}\\frac{x^{2n+1}}{(2n+1)!}$ . Viết function xấp xỉ sinh khi nhận x là giá trị muốn tính sinh(x) và n là số lần lặp muốn xấp xỉ. Return về kết quả sinh(x) với bậc xấp xỉ tương ứng. Đầu ra của chương trình sau đây là gì?"
   ]
  },
  {
   "cell_type": "code",
   "execution_count": 37,
   "metadata": {},
   "outputs": [
    {
     "name": "stdout",
     "output_type": "stream",
     "text": [
      "11.53\n"
     ]
    }
   ],
   "source": [
    "def approx_sinh(x, n):\n",
    "    sinh_x = 0\n",
    "    for i in range(n):\n",
    "        sinh_x += (x ** (2 * i + 1)) / math.factorial(2 * i + 1)\n",
    "    return sinh_x\n",
    "\n",
    "\n",
    "assert round(approx_sinh(x=1, n=10), 2) == 1.18\n",
    "print(round(approx_sinh(x=3.14, n=10), 2))"
   ]
  },
  {
   "cell_type": "markdown",
   "metadata": {},
   "source": [
    "### Câu hỏi 12:\n",
    "\n",
    "Dựa vào công thức xấp xỉ cosh và điều kiện được giới thiệu $cosh (x) \\approx \\sum_{n=0}^{\\infty}\\frac{x^{2n}}{(2n)!}$ . Viết function xấp xỉ cosh khi nhận x là giá trị muốn tính cosh(x) và n là số lần lặp muốn xấp xỉ. Return về kết quả cosh(x) với bậc xấp xỉ tương ứng. Đầu ra của chương trình sau đây là gì?"
   ]
  },
  {
   "cell_type": "code",
   "execution_count": 38,
   "metadata": {},
   "outputs": [
    {
     "name": "stdout",
     "output_type": "stream",
     "text": [
      "11.57\n"
     ]
    }
   ],
   "source": [
    "def approx_cosh (x , n ) :\n",
    "    cosh_x = 0\n",
    "    for i in range(n):\n",
    "        cosh_x += (x ** (2 * i)) / math.factorial(2 * i)\n",
    "    return cosh_x\n",
    "assert round ( approx_cosh ( x =1 , n =10) , 2) ==1.54\n",
    "print ( round ( approx_cosh ( x =3.14 , n =10) , 2) )"
   ]
  },
  {
   "cell_type": "markdown",
   "metadata": {},
   "source": [
    "### Câu hỏi 13 : Đoạn code nào thực hiện đúng Mean Difference of $n^{th}$ Root Error được miêu tả ở trên?"
   ]
  },
  {
   "cell_type": "code",
   "execution_count": null,
   "metadata": {},
   "outputs": [],
   "source": [
    "# (A)\n",
    "def md_nre_single_sample(y, y_hat, n, p):\n",
    "    y_root = y ** (1 / n)\n",
    "    y_hat_root = y_hat ** (1 / n)\n",
    "    difference = y_root - y_hat_root\n",
    "    loss = difference**p\n",
    "    return loss\n",
    "\n",
    "\n",
    "# (B)\n",
    "def md_nre_single_sample1(y, y_hat, n, p):\n",
    "    y_root = y ** (1 / n)\n",
    "    y_hat_root = y_hat ** (1 / 2)\n",
    "    difference = y_root - y_hat_root\n",
    "    loss = difference**p\n",
    "    return loss\n",
    "\n",
    "\n",
    "# (C)\n",
    "def md_nre_single_sample2(y, y_hat, n, p):\n",
    "    y_root = y ** (1 / n)\n",
    "    y_hat_root = y_hat ** (1 / n)\n",
    "    difference = y_root / y_hat_root\n",
    "    loss = difference**p\n",
    "    return loss\n",
    "\n",
    "\n",
    "# (D)\n",
    "def md_nre_single_sample3(y, y_hat, n, p):\n",
    "    y_root = y ** (1 / n)\n",
    "    y_hat_root = y_hat ** (1 / n)\n",
    "    difference = y_root - y_hat_root\n",
    "    loss = difference\n",
    "    return loss"
   ]
  },
  {
   "cell_type": "markdown",
   "metadata": {},
   "source": [
    "$$MAE = \\frac{1}{n}\\sum_{i=1}^{n}|{y_i} - \\hat{y_i}|$$"
   ]
  },
  {
   "cell_type": "markdown",
   "metadata": {},
   "source": [
    "$$MD\\_nRE = \\frac{1}{m}\\sum_{i=1}^{m}(\\sqrt[n]{y_i} - \\sqrt[n]{\\hat{y_i}})^p$$"
   ]
  }
 ],
 "metadata": {
  "kernelspec": {
   "display_name": ".env",
   "language": "python",
   "name": "python3"
  },
  "language_info": {
   "codemirror_mode": {
    "name": "ipython",
    "version": 3
   },
   "file_extension": ".py",
   "mimetype": "text/x-python",
   "name": "python",
   "nbconvert_exporter": "python",
   "pygments_lexer": "ipython3",
   "version": "3.12.1"
  }
 },
 "nbformat": 4,
 "nbformat_minor": 2
}
