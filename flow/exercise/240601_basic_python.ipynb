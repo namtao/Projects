{
 "cells": [
  {
   "cell_type": "markdown",
   "metadata": {},
   "source": [
    "# Basic Python"
   ]
  },
  {
   "cell_type": "markdown",
   "metadata": {},
   "source": [
    "## Rubric"
   ]
  },
  {
   "cell_type": "markdown",
   "metadata": {},
   "source": [
    "<table>\n",
    "    <tr>\n",
    "        <th>STT</th>\n",
    "        <th>Kiến thức</th>\n",
    "        <th>Đánh giá</th>\n",
    "    </tr>\n",
    "    <tr>\n",
    "        <td>1</td>\n",
    "        <td>Hiểu được cách sử dụng Python để tính toán F1-Score và giới thiệu cơ bản đánh giá mô hình bằng F1-Score.\n",
    "        </td>\n",
    "        <td>Có khả năng viết function và xử lý lỗi khi code Python tính F1-Score, thể hiện sự hiểu biết về thực hiện\n",
    "            code theo một công thức cho trước.</td>\n",
    "    </tr>\n",
    "    <tr>\n",
    "        <td> 2</td>\n",
    "        <td> Nắm được cách thức cài đặt các hàm kích hoạt như sigmoid, relu và elu trong Python.</td>\n",
    "        <td>Thể hiện khả năng thực hiện các hàm này trong môi trường lập trình Python, phù hợp cho các ứng dụng AI.</td>\n",
    "    </tr>\n",
    "    <tr>\n",
    "        <td>3</td>\n",
    "        <td>Hiểu rõ cách thực hiện các hàm regression loss phổ biến trong Python để tính toán loss cho các bài toán\n",
    "            regression.</td>\n",
    "        <td>Thể hiện khả năng cài đặt các hàm loss đa dạng trong môi trường lập trình Python, phù hợp để tính toán loss\n",
    "            trong các bài toán regression</td>\n",
    "    </tr>\n",
    "    <tr>\n",
    "        <td>4</td>\n",
    "        <td>Tìm hiểu về các phương pháp lập trình Python để ước lượng giá trị hàm số.</td>\n",
    "        <td>Có khả năng lập trình Python để mô phỏng các hàm số, áp dụng hiệu quả trong các bài toán tính toán.</td>\n",
    "    </tr>\n",
    "    <tr>\n",
    "        <td>5</td>\n",
    "        <td>Hiểu được cách xây dựng và sử dụng các chỉ số đánh giá mô hình nâng cao trong Python.</td>\n",
    "        <td>Thực hiện thành thạo các tính toán error phức tạp trong việc sử dụng Python để cải thiện hiệu suất mô hình.\n",
    "        </td>\n",
    "    </tr>\n",
    "</table>"
   ]
  },
  {
   "cell_type": "markdown",
   "metadata": {},
   "source": [
    "## Exercise"
   ]
  },
  {
   "cell_type": "code",
   "execution_count": null,
   "metadata": {
    "vscode": {
     "languageId": "plaintext"
    }
   },
   "outputs": [],
   "source": []
  }
 ],
 "metadata": {
  "language_info": {
   "name": "python"
  }
 },
 "nbformat": 4,
 "nbformat_minor": 2
}
