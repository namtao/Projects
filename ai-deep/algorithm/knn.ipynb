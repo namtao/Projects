{
 "cells": [
  {
   "cell_type": "markdown",
   "id": "4b03693c",
   "metadata": {},
   "source": [
    "# K-Nearest Neighbors\n",
    "\n",
    "- Tìm k điểm gần nhất của dữ liệu mới\n",
    "- Lazy learning (instance-based learning): không cần tranning, đi tìm có tỷ lệ gần giống cao nhất\n",
    "- Với KNN, trong bài toán Classification, label của một điểm dữ liệu mới (hay kết quả của câu hỏi trong bài thi) được suy ra trực tiếp từ K điểm dữ liệu gần nhất trong training set. Label của một test data có thể được quyết định bằng major voting (bầu chọn theo số phiếu) giữa các điểm gần nhất, hoặc nó có thể được suy ra bằng cách đánh trọng số khác nhau cho mỗi trong các điểm gần nhất đó rồi suy ra label.\n",
    "\n",
    "- Trong bài toán Regresssion, đầu ra của một điểm dữ liệu sẽ bằng chính đầu ra của điểm dữ liệu đã biết gần nhất (trong trường hợp K=1), hoặc là trung bình có trọng số của đầu ra của những điểm gần nhất, hoặc bằng một mối quan hệ dựa trên khoảng cách tới các điểm gần nhất đó.\n",
    "\n",
    "- Một cách ngắn gọn, KNN là thuật toán đi tìm đầu ra của một điểm dữ liệu mới bằng cách chỉ dựa trên thông tin của K điểm dữ liệu trong training set gần nó nhất (K-lân cận), không quan tâm đến việc có một vài điểm dữ liệu trong những điểm gần nhất này là nhiễu. Hình dưới đây là một ví dụ về KNN trong classification với K = 1.\n"
   ]
  },
  {
   "cell_type": "code",
   "execution_count": 3,
   "id": "37670430",
   "metadata": {},
   "outputs": [],
   "source": [
    "import numpy as np\n",
    "import matplotlib.pyplot as plt\n",
    "from sklearn import neighbors, datasets\n",
    "import pandas as pd"
   ]
  },
  {
   "cell_type": "code",
   "execution_count": 6,
   "id": "daffb5fb",
   "metadata": {},
   "outputs": [
    {
     "data": {
      "text/html": [
       "<div>\n",
       "<style scoped>\n",
       "    .dataframe tbody tr th:only-of-type {\n",
       "        vertical-align: middle;\n",
       "    }\n",
       "\n",
       "    .dataframe tbody tr th {\n",
       "        vertical-align: top;\n",
       "    }\n",
       "\n",
       "    .dataframe thead th {\n",
       "        text-align: right;\n",
       "    }\n",
       "</style>\n",
       "<table border=\"1\" class=\"dataframe\">\n",
       "  <thead>\n",
       "    <tr style=\"text-align: right;\">\n",
       "      <th></th>\n",
       "      <th>Petal_Length</th>\n",
       "      <th>Label</th>\n",
       "    </tr>\n",
       "  </thead>\n",
       "  <tbody>\n",
       "    <tr>\n",
       "      <th>0</th>\n",
       "      <td>1.4</td>\n",
       "      <td>0.0</td>\n",
       "    </tr>\n",
       "    <tr>\n",
       "      <th>1</th>\n",
       "      <td>1.0</td>\n",
       "      <td>0.0</td>\n",
       "    </tr>\n",
       "    <tr>\n",
       "      <th>2</th>\n",
       "      <td>1.5</td>\n",
       "      <td>0.0</td>\n",
       "    </tr>\n",
       "    <tr>\n",
       "      <th>3</th>\n",
       "      <td>3.1</td>\n",
       "      <td>1.0</td>\n",
       "    </tr>\n",
       "    <tr>\n",
       "      <th>4</th>\n",
       "      <td>3.8</td>\n",
       "      <td>1.0</td>\n",
       "    </tr>\n",
       "    <tr>\n",
       "      <th>5</th>\n",
       "      <td>4.1</td>\n",
       "      <td>1.0</td>\n",
       "    </tr>\n",
       "  </tbody>\n",
       "</table>\n",
       "</div>"
      ],
      "text/plain": [
       "   Petal_Length  Label\n",
       "0           1.4    0.0\n",
       "1           1.0    0.0\n",
       "2           1.5    0.0\n",
       "3           3.1    1.0\n",
       "4           3.8    1.0\n",
       "5           4.1    1.0"
      ]
     },
     "execution_count": 6,
     "metadata": {},
     "output_type": "execute_result"
    }
   ],
   "source": [
    "data = pd.read_csv(r'https://github.com/namtao/xD/blob/master/data/iris_1D.csv')\n",
    "data"
   ]
  },
  {
   "cell_type": "markdown",
   "id": "943a3973",
   "metadata": {},
   "source": [
    "## KNN for classification\n",
    "\n",
    "- Xử lý dữ liệu\n",
    "- Chọn K giá trị nhỏ nhất\n",
    "- Tính khoảng cách với cách điểm còn lại\n",
    "- Sắp xếp các điểm\n",
    "- Lấy K điểm\n",
    "- Chọn theo số đông\n"
   ]
  },
  {
   "cell_type": "markdown",
   "id": "a547ede3",
   "metadata": {},
   "source": [
    "## KNN for regression\n",
    "\n",
    "- Chọn K\n",
    "- Tính khoảng cách\n",
    "- Tìm K điểm gần nhất\n",
    "- Tính trung bình (mean, median,...)\n"
   ]
  },
  {
   "cell_type": "markdown",
   "id": "26d0590f",
   "metadata": {},
   "source": [
    "## KNN with brute-force\n",
    "\n",
    "- Tính khoảng cách từ điểm mới đến tất cả các điểm còn lại trong dataset (vét cạn)\n"
   ]
  },
  {
   "cell_type": "markdown",
   "id": "dbbf398c",
   "metadata": {},
   "source": [
    "## KNN with K-D tree\n",
    "\n",
    "- Thay vì tính khoảng cách từ điểm mới đến tất cả các điểm còn lại trong dataset?\n",
    "- Tìm K điểm gần nhất 1 cách nhanh nhất\n",
    "- Chọn ngẫu nhiên 1 feature\n",
    "- Tính median => Chia dataset thành 2 nửa\n",
    "- Chọn feature kế tiếp\n",
    "- Tính median theo feture kế tiếp => ta được 1 cây phân loại dữ liệu để tìm K điểm gần nhất nhanh nhất\n",
    "- Fit trong sklearn: sắp xếp dữ liệu theo 1 từng loại thuật toán sử dụng để tìm kiếm dữ liệu nhanh hơn"
   ]
  },
  {
   "cell_type": "markdown",
   "id": "7c93d738",
   "metadata": {},
   "source": [
    "## KNN with ball tree\n",
    "\n",
    "- Lấy bất kì 1 điểm\n",
    "- Tìm điểm xa nhất từ điểm mới\n",
    "- Tìm điểm xa nhất từ điểm mới tìm được\n",
    "- Chiếu tất cả các điểm lên đường thẳng\n",
    "- Tìm median trên đường thẳng\n",
    "- Tìm tâm đại diện cho 2 khoảng được phân chia từ median\n",
    "- Tiếp tục chia trong các khoảng được chia\n",
    "- Khi có dữ liệu mới, ta tính khoảng cách ngắn nhất từ điểm mới đến tâm đường tròn đã được xây dựng bên trên dựa theo đường median"
   ]
  }
 ],
 "metadata": {
  "jupytext": {
   "cell_metadata_filter": "-all",
   "main_language": "python",
   "notebook_metadata_filter": "-all"
  },
  "kernelspec": {
   "display_name": ".env",
   "language": "python",
   "name": "python3"
  },
  "language_info": {
   "codemirror_mode": {
    "name": "ipython",
    "version": 3
   },
   "file_extension": ".py",
   "mimetype": "text/x-python",
   "name": "python",
   "nbconvert_exporter": "python",
   "pygments_lexer": "ipython3",
   "version": "3.12.1"
  }
 },
 "nbformat": 4,
 "nbformat_minor": 5
}
