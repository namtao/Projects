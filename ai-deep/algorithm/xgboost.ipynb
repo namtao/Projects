{
 "cells": [
  {
   "cell_type": "markdown",
   "id": "0dcce294",
   "metadata": {},
   "source": [
    "# XGBOOST\n",
    "\n",
    "***"
   ]
  }
 ],
 "metadata": {
  "jupytext": {
   "cell_metadata_filter": "-all",
   "main_language": "python",
   "notebook_metadata_filter": "-all"
  }
 },
 "nbformat": 4,
 "nbformat_minor": 5
}
