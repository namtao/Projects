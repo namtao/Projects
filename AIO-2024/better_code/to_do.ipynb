{
 "cells": [
  {
   "cell_type": "code",
   "execution_count": 1,
   "metadata": {},
   "outputs": [
    {
     "name": "stdout",
     "output_type": "stream",
     "text": [
      "Wake up\n"
     ]
    }
   ],
   "source": [
    "time = input('Input time: ')\n",
    "\n",
    "if time == '5 AM':\n",
    "    print('Wake up')\n",
    "elif time == '6 AM':\n",
    "    print('Yoga')\n",
    "elif time == '7 AM':\n",
    "    print('Work')\n",
    "else: \n",
    "    print(\"Do something else\")"
   ]
  },
  {
   "cell_type": "code",
   "execution_count": 3,
   "metadata": {},
   "outputs": [
    {
     "name": "stdout",
     "output_type": "stream",
     "text": [
      "Yoga\n"
     ]
    }
   ],
   "source": [
    "todo = {'5 AM': 'Wake up',\n",
    "        '6 AM': 'Yoga',\n",
    "        '7 AM': 'Work'}\n",
    "\n",
    "time = input('Input time: ')\n",
    "print(todo.get(time, 'Do something else'))\n"
   ]
  },
  {
   "cell_type": "code",
   "execution_count": 4,
   "metadata": {},
   "outputs": [
    {
     "name": "stdout",
     "output_type": "stream",
     "text": [
      "Work\n"
     ]
    }
   ],
   "source": [
    "time = input('Input time: ')\n",
    "\n",
    "match time:\n",
    "    case '5 AM':\n",
    "        print('Wake up')\n",
    "    case '6 AM':\n",
    "        print('Yoga')\n",
    "    case '7 AM':\n",
    "        print('Work')\n",
    "    case _:\n",
    "        print('Do something else')"
   ]
  }
 ],
 "metadata": {
  "kernelspec": {
   "display_name": ".env",
   "language": "python",
   "name": "python3"
  },
  "language_info": {
   "codemirror_mode": {
    "name": "ipython",
    "version": 3
   },
   "file_extension": ".py",
   "mimetype": "text/x-python",
   "name": "python",
   "nbconvert_exporter": "python",
   "pygments_lexer": "ipython3",
   "version": "3.12.1"
  }
 },
 "nbformat": 4,
 "nbformat_minor": 2
}
