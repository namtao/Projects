{
 "cells": [
  {
   "cell_type": "code",
   "execution_count": 65,
   "metadata": {},
   "outputs": [
    {
     "name": "stdout",
     "output_type": "stream",
     "text": [
      "[2, 4, 6, 8, 10, 12]\n"
     ]
    }
   ],
   "source": [
    "lst_data = [2, 4, 6, 8, 10, 12]\n",
    "# in lst_data\n",
    "print(lst_data)"
   ]
  },
  {
   "cell_type": "code",
   "execution_count": 66,
   "metadata": {},
   "outputs": [
    {
     "name": "stdout",
     "output_type": "stream",
     "text": [
      "[2, 4, 8, 10]\n"
     ]
    }
   ],
   "source": [
    "# in lst_data không chi chia hết cho 3\n",
    "print([i for i in lst_data if i % 3 !=0])"
   ]
  },
  {
   "cell_type": "code",
   "execution_count": 67,
   "metadata": {},
   "outputs": [
    {
     "name": "stdout",
     "output_type": "stream",
     "text": [
      "[2, 4, 8, 10]\n"
     ]
    }
   ],
   "source": [
    "# in lst_data không chi chia hết cho 3\n",
    "for i in lst_data:\n",
    "    if i % 3 ==0:\n",
    "        lst_data.remove(i)\n",
    "        \n",
    "print(lst_data)"
   ]
  },
  {
   "cell_type": "code",
   "execution_count": 68,
   "metadata": {},
   "outputs": [
    {
     "name": "stdout",
     "output_type": "stream",
     "text": [
      "[2, 4, 8, 10, 1, 2, 3]\n",
      "[2, 4, 8, 6, 7, 8, 10, 1, 2, 3]\n"
     ]
    }
   ],
   "source": [
    "# thêm vào cuối lst_data các số từ 1 đến 3 và thêm vào vị trí index = 3 1 chuỗi các số từ 6 đến 8\n",
    "\n",
    "lst_data.extend(range(1, 4))\n",
    "\n",
    "print(lst_data)\n",
    "\n",
    "lst_data[3:3]= range(6, 9)\n",
    "print(lst_data)"
   ]
  },
  {
   "cell_type": "code",
   "execution_count": 69,
   "metadata": {},
   "outputs": [
    {
     "name": "stdout",
     "output_type": "stream",
     "text": [
      "[0, 0, 0, 0, 7, 0, 0, 1, 0, 3]\n"
     ]
    }
   ],
   "source": [
    "# nếu các số trong lst_data chia hết cho 2 hoặc 5 thì update = 0\n",
    "for i, v in enumerate(lst_data):\n",
    "    if v % 2 ==0 or v % 5 == 0:\n",
    "        lst_data[i] = 0\n",
    "        \n",
    "print(lst_data)"
   ]
  },
  {
   "cell_type": "code",
   "execution_count": 70,
   "metadata": {},
   "outputs": [
    {
     "data": {
      "text/plain": [
       "[0, 0, 0, 0, 7, 0, 0, 1, 0, 3]"
      ]
     },
     "execution_count": 70,
     "metadata": {},
     "output_type": "execute_result"
    }
   ],
   "source": [
    "# nếu các số trong lst_data chia hết cho 2 hoặc 5 thì update = 0\n",
    "\n",
    "[0 if v % 2 ==0 or v % 5 == 0 else v  for i, v in enumerate(lst_data)]"
   ]
  }
 ],
 "metadata": {
  "kernelspec": {
   "display_name": ".env",
   "language": "python",
   "name": "python3"
  },
  "language_info": {
   "codemirror_mode": {
    "name": "ipython",
    "version": 3
   },
   "file_extension": ".py",
   "mimetype": "text/x-python",
   "name": "python",
   "nbconvert_exporter": "python",
   "pygments_lexer": "ipython3",
   "version": "3.12.1"
  }
 },
 "nbformat": 4,
 "nbformat_minor": 2
}
