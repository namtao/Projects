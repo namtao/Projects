{
 "cells": [
  {
   "cell_type": "code",
   "execution_count": 70,
   "metadata": {},
   "outputs": [],
   "source": [
    "lst_data = [[1,2,3],[4,5,6],[7,8,9]]"
   ]
  },
  {
   "cell_type": "code",
   "execution_count": 71,
   "metadata": {},
   "outputs": [
    {
     "name": "stdout",
     "output_type": "stream",
     "text": [
      "[[1, 3], [4, 6], [7, 9]]\n"
     ]
    }
   ],
   "source": [
    "lst_sub_data = []\n",
    "\n",
    "for row in range(3):\n",
    "    lst = []\n",
    "    for col in range(3):\n",
    "        if(col ==0 or col == 2):\n",
    "            lst.append(lst_data[row][col])\n",
    "    lst_sub_data.append(lst)\n",
    "    \n",
    "print(lst_sub_data)"
   ]
  },
  {
   "cell_type": "code",
   "execution_count": 72,
   "metadata": {},
   "outputs": [],
   "source": [
    "A = [[1,2,3],[4,5,6],[7,8,9]]\n",
    "B = [[2,4,6], [1,3,5],[1,0,1]]"
   ]
  },
  {
   "cell_type": "code",
   "execution_count": 73,
   "metadata": {},
   "outputs": [
    {
     "name": "stdout",
     "output_type": "stream",
     "text": [
      "[[3, 6, 9], [5, 8, 11], [8, 8, 10]]\n"
     ]
    }
   ],
   "source": [
    "tong = []\n",
    "for row in range(len(A)):\n",
    "    lst = []\n",
    "    for col in range(len(A[0])):\n",
    "        lst.append(A[row][col] + B[row][col])\n",
    "        \n",
    "    tong.append(lst)\n",
    "print(tong)\n",
    "        "
   ]
  },
  {
   "cell_type": "code",
   "execution_count": 74,
   "metadata": {},
   "outputs": [
    {
     "name": "stdout",
     "output_type": "stream",
     "text": [
      "[[-1, -2, -3], [3, 2, 1], [6, 8, 8]]\n"
     ]
    }
   ],
   "source": [
    "hieu = []\n",
    "for row in range(len(A)):\n",
    "    lst = []\n",
    "    for col in range(len(A[0])):\n",
    "        lst.append(A[row][col] - B[row][col])\n",
    "        \n",
    "    hieu.append(lst)\n",
    "print(hieu)\n",
    "        "
   ]
  },
  {
   "cell_type": "code",
   "execution_count": 75,
   "metadata": {},
   "outputs": [
    {
     "name": "stdout",
     "output_type": "stream",
     "text": [
      "[[7, 10, 19], [19, 31, 55], [31, 52, 91]]\n"
     ]
    }
   ],
   "source": [
    "dot_ = []\n",
    "for row in range(len(A)):\n",
    "    lst = []\n",
    "    for col in range(len(B[0])):\n",
    "        sum = 0\n",
    "        for i in range(len(B)):\n",
    "            sum+=A[row][i] * B[i][col]\n",
    "        \n",
    "        lst.append(sum)\n",
    "    dot_.append(lst)\n",
    "    \n",
    "print(dot_)  \n",
    "        "
   ]
  }
 ],
 "metadata": {
  "kernelspec": {
   "display_name": ".env",
   "language": "python",
   "name": "python3"
  },
  "language_info": {
   "codemirror_mode": {
    "name": "ipython",
    "version": 3
   },
   "file_extension": ".py",
   "mimetype": "text/x-python",
   "name": "python",
   "nbconvert_exporter": "python",
   "pygments_lexer": "ipython3",
   "version": "3.12.1"
  }
 },
 "nbformat": 4,
 "nbformat_minor": 2
}
