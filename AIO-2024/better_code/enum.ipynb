{
 "cells": [
  {
   "cell_type": "code",
   "execution_count": 1,
   "metadata": {},
   "outputs": [],
   "source": [
    "food_list = [['Bơ', 'Pizza', 'Sữa'], \n",
    "             ['Xúc xích', 'Táo', 'Kem'],\n",
    "             ['Cà rốt', 'Bánh dâu', 'Cupcake']]\n",
    "\n",
    "search_iteams = ['Cà rốt', 'Táo', 'Sữa']"
   ]
  },
  {
   "cell_type": "code",
   "execution_count": 2,
   "metadata": {},
   "outputs": [
    {
     "name": "stdout",
     "output_type": "stream",
     "text": [
      "Sữa được tìm thấy ở hàng 1 và cột 3\n",
      "Táo được tìm thấy ở hàng 2 và cột 2\n",
      "Cà rốt được tìm thấy ở hàng 3 và cột 1\n"
     ]
    }
   ],
   "source": [
    "# Method 1\n",
    "\n",
    "for i in range(len(food_list)):\n",
    "    for j in range(len(food_list[i])):\n",
    "        if(food_list[i][j] in search_iteams):\n",
    "            print(f'{food_list[i][j]} được tìm thấy ở hàng {i + 1} và cột {j + 1}')"
   ]
  },
  {
   "cell_type": "code",
   "execution_count": 4,
   "metadata": {},
   "outputs": [
    {
     "name": "stdout",
     "output_type": "stream",
     "text": [
      "Sữa được tìm thấy ở hàng 1 và cột 3\n",
      "Táo được tìm thấy ở hàng 2 và cột 2\n",
      "Cà rốt được tìm thấy ở hàng 3 và cột 1\n"
     ]
    }
   ],
   "source": [
    "# Method 2\n",
    "\n",
    "for i, row in enumerate(food_list, start=1):\n",
    "    for j, item in enumerate(row, start = 1):\n",
    "        if item in search_iteams:\n",
    "            print(f'{item} được tìm thấy ở hàng {i} và cột {j}')"
   ]
  }
 ],
 "metadata": {
  "kernelspec": {
   "display_name": ".env",
   "language": "python",
   "name": "python3"
  },
  "language_info": {
   "codemirror_mode": {
    "name": "ipython",
    "version": 3
   },
   "file_extension": ".py",
   "mimetype": "text/x-python",
   "name": "python",
   "nbconvert_exporter": "python",
   "pygments_lexer": "ipython3",
   "version": "3.12.1"
  }
 },
 "nbformat": 4,
 "nbformat_minor": 2
}
