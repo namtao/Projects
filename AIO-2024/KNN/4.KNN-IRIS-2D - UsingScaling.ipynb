{
 "cells": [
  {
   "cell_type": "markdown",
   "id": "13489e8f-f29a-489c-b854-15e0cf000079",
   "metadata": {},
   "source": [
    "## in cm"
   ]
  },
  {
   "cell_type": "code",
   "execution_count": 20,
   "id": "b6a35825",
   "metadata": {},
   "outputs": [
    {
     "name": "stdout",
     "output_type": "stream",
     "text": [
      "[[1.4 0.2]\n",
      " [1.3 0.4]\n",
      " [1.4 0.3]\n",
      " [4.  1. ]\n",
      " [4.7 1.4]\n",
      " [3.6 1.3]]\n",
      "[0. 0. 0. 1. 1. 1.]\n"
     ]
    }
   ],
   "source": [
    "import numpy as np\n",
    "import matplotlib.pyplot as plt\n",
    "from sklearn import neighbors, datasets\n",
    "import pandas as pd\n",
    "from sklearn.preprocessing import StandardScaler\n",
    "\n",
    "data = pd.read_csv('iris_2D.csv')\n",
    "\n",
    "# get x\n",
    "x_data = data[['Petal_Length', 'Petal_Width']].to_numpy()\n",
    "x_data = x_data.reshape(6, 2)\n",
    "print(x_data)\n",
    "\n",
    "# get y\n",
    "y_data = data['Label'].to_numpy()\n",
    "print(y_data)"
   ]
  },
  {
   "cell_type": "code",
   "execution_count": 21,
   "id": "b0a83a6c-837f-4d7a-b3a6-5515f1ac5875",
   "metadata": {},
   "outputs": [
    {
     "name": "stdout",
     "output_type": "stream",
     "text": [
      "[[-0.94942533 -1.16756479]\n",
      " [-1.02063223 -0.7554831 ]\n",
      " [-0.94942533 -0.96152395]\n",
      " [ 0.90195406  0.48076197]\n",
      " [ 1.40040236  1.30492536]\n",
      " [ 0.61712646  1.09888451]]\n"
     ]
    }
   ],
   "source": [
    "scaler = StandardScaler()\n",
    "scaler.fit(x_data)\n",
    "\n",
    "x_data = scaler.transform(x_data)\n",
    "print(x_data)"
   ]
  },
  {
   "cell_type": "code",
   "execution_count": null,
   "id": "e02889c4",
   "metadata": {},
   "outputs": [],
   "source": []
  },
  {
   "cell_type": "code",
   "execution_count": 22,
   "id": "9b6cf5e3-dc25-42d7-9eaa-710b42ceb140",
   "metadata": {},
   "outputs": [
    {
     "name": "stdout",
     "output_type": "stream",
     "text": [
      "[[-0.09494253 -0.13736056]]\n",
      "(array([[1.11309338, 1.17297838, 1.18717569, 1.33845493, 1.42665488,\n",
      "        2.07755746]]), array([[1, 3, 2, 0, 5, 4]], dtype=int64))\n"
     ]
    }
   ],
   "source": [
    "# get model\n",
    "from sklearn.neighbors import KNeighborsClassifier\n",
    "\n",
    "classifier = KNeighborsClassifier(n_neighbors=6)\n",
    "classifier.fit(x_data, y_data)\n",
    "\n",
    "# unknown input\n",
    "x_test = [[2.6, 0.7]]\n",
    "x_test = scaler.transform(x_test)\n",
    "print(x_test)\n",
    "\n",
    "y_pred = classifier.kneighbors(x_test)\n",
    "print(y_pred)"
   ]
  },
  {
   "cell_type": "code",
   "execution_count": null,
   "id": "4e0eb43e-590f-4395-a431-a78000ada73d",
   "metadata": {},
   "outputs": [],
   "source": []
  },
  {
   "cell_type": "markdown",
   "id": "3c886fcf-cb7d-43b1-a79d-7ba1248ce5e8",
   "metadata": {},
   "source": [
    "## in mm"
   ]
  },
  {
   "cell_type": "code",
   "execution_count": 23,
   "id": "1473b8e5-2bc0-4069-bcbe-ce566e69afa2",
   "metadata": {},
   "outputs": [
    {
     "name": "stdout",
     "output_type": "stream",
     "text": [
      "[[ 1.4  2. ]\n",
      " [ 1.3  4. ]\n",
      " [ 1.4  3. ]\n",
      " [ 4.  10. ]\n",
      " [ 4.7 14. ]\n",
      " [ 3.6 13. ]]\n",
      "[0. 0. 0. 1. 1. 1.]\n"
     ]
    }
   ],
   "source": [
    "import numpy as np\n",
    "import matplotlib.pyplot as plt\n",
    "from sklearn import neighbors, datasets\n",
    "import pandas as pd\n",
    "from sklearn.preprocessing import StandardScaler\n",
    "\n",
    "data = pd.read_csv('iris_2D_mm.csv')\n",
    "\n",
    "# get x\n",
    "x_data = data[['Petal_Length', 'Petal_Width']].to_numpy()\n",
    "x_data = x_data.reshape(6, 2)\n",
    "print(x_data)\n",
    "\n",
    "# get y\n",
    "y_data = data['Label'].to_numpy()\n",
    "print(y_data)"
   ]
  },
  {
   "cell_type": "code",
   "execution_count": null,
   "id": "2b8a0ae3",
   "metadata": {},
   "outputs": [],
   "source": []
  },
  {
   "cell_type": "code",
   "execution_count": 24,
   "id": "fa27c5c7-a471-4728-a876-67b7b1c28f90",
   "metadata": {},
   "outputs": [
    {
     "name": "stdout",
     "output_type": "stream",
     "text": [
      "[[-0.94942533 -1.16756479]\n",
      " [-1.02063223 -0.7554831 ]\n",
      " [-0.94942533 -0.96152395]\n",
      " [ 0.90195406  0.48076197]\n",
      " [ 1.40040236  1.30492536]\n",
      " [ 0.61712646  1.09888451]]\n"
     ]
    }
   ],
   "source": [
    "scaler = StandardScaler()\n",
    "scaler.fit(x_data)\n",
    "\n",
    "x_data = scaler.transform(x_data)\n",
    "print(x_data)"
   ]
  },
  {
   "cell_type": "code",
   "execution_count": null,
   "id": "207c862c-6379-487d-a551-db32b8c2772d",
   "metadata": {},
   "outputs": [],
   "source": []
  },
  {
   "cell_type": "code",
   "execution_count": 25,
   "id": "1eb743fd",
   "metadata": {},
   "outputs": [
    {
     "name": "stdout",
     "output_type": "stream",
     "text": [
      "[[-0.09494253 -0.13736056]]\n",
      "(array([[1.11309338, 1.17297838, 1.18717569, 1.33845493, 1.42665488,\n",
      "        2.07755746]]), array([[1, 3, 2, 0, 5, 4]], dtype=int64))\n"
     ]
    }
   ],
   "source": [
    "# get model\n",
    "from sklearn.neighbors import KNeighborsClassifier\n",
    "\n",
    "classifier = KNeighborsClassifier(n_neighbors=6)\n",
    "classifier.fit(x_data, y_data)\n",
    "\n",
    "# unknown input\n",
    "x_test = [[2.6, 7.0]]\n",
    "x_test = scaler.transform(x_test)\n",
    "print(x_test)\n",
    "\n",
    "y_pred = classifier.kneighbors(x_test)\n",
    "print(y_pred)"
   ]
  },
  {
   "cell_type": "code",
   "execution_count": null,
   "id": "5cf6b34d",
   "metadata": {},
   "outputs": [],
   "source": []
  },
  {
   "cell_type": "code",
   "execution_count": null,
   "id": "cd420b27",
   "metadata": {},
   "outputs": [],
   "source": []
  }
 ],
 "metadata": {
  "kernelspec": {
   "display_name": "Python 3 (ipykernel)",
   "language": "python",
   "name": "python3"
  },
  "language_info": {
   "codemirror_mode": {
    "name": "ipython",
    "version": 3
   },
   "file_extension": ".py",
   "mimetype": "text/x-python",
   "name": "python",
   "nbconvert_exporter": "python",
   "pygments_lexer": "ipython3",
   "version": "3.11.4"
  }
 },
 "nbformat": 4,
 "nbformat_minor": 5
}
