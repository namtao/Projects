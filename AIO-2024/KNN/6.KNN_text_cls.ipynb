{
 "cells": [
  {
   "cell_type": "code",
   "execution_count": 54,
   "metadata": {
    "executionInfo": {
     "elapsed": 557,
     "status": "ok",
     "timestamp": 1692798513160,
     "user": {
      "displayName": "Thuận Dương",
      "userId": "02491057733457472001"
     },
     "user_tz": -420
    },
    "id": "Yo7SGb6izvqu"
   },
   "outputs": [],
   "source": [
    "# !pip install scikit-learn==1.3.0 numpy==1.25.2"
   ]
  },
  {
   "cell_type": "code",
   "execution_count": 1,
   "metadata": {
    "executionInfo": {
     "elapsed": 7,
     "status": "ok",
     "timestamp": 1692798513160,
     "user": {
      "displayName": "Thuận Dương",
      "userId": "02491057733457472001"
     },
     "user_tz": -420
    },
    "id": "df-M1wKhzvqx"
   },
   "outputs": [],
   "source": [
    "import sklearn\n",
    "from sklearn.neighbors import KNeighborsClassifier\n",
    "from sklearn.pipeline import Pipeline\n",
    "from sklearn.feature_extraction.text import CountVectorizer\n",
    "from sklearn.feature_extraction.text import TfidfTransformer\n",
    "import numpy as np"
   ]
  },
  {
   "cell_type": "code",
   "execution_count": 2,
   "metadata": {
    "executionInfo": {
     "elapsed": 6,
     "status": "ok",
     "timestamp": 1692798513160,
     "user": {
      "displayName": "Thuận Dương",
      "userId": "02491057733457472001"
     },
     "user_tz": -420
    },
    "id": "kcvxhKJgzvqx"
   },
   "outputs": [],
   "source": [
    "corpus = [\n",
    "    \"góp gió gặt bão\",\n",
    "    \"có làm mới có ăn\",\n",
    "    \"đất lành chim đậu\",\n",
    "    \"ăn cháo đá bát\",\n",
    "    \"gậy ông đập lưng ông\",\n",
    "    \"qua cầu rút ván\"\n",
    "]\n",
    "\n",
    "n_doc = len(corpus)\n",
    "\n",
    "labels = [1, 1, 1, 0, 0, 0] # 1: positive - 0: negative\n",
    "\n",
    "cate_2_label = {\n",
    "    \"positive\": 1,\n",
    "    \"negative\": 0\n",
    "}"
   ]
  },
  {
   "cell_type": "code",
   "execution_count": 3,
   "metadata": {
    "executionInfo": {
     "elapsed": 6,
     "status": "ok",
     "timestamp": 1692798513160,
     "user": {
      "displayName": "Thuận Dương",
      "userId": "02491057733457472001"
     },
     "user_tz": -420
    },
    "id": "tlqjnHkwxI76"
   },
   "outputs": [],
   "source": [
    "def label_2_cate(labels):\n",
    "    key_list = list(cate_2_label.keys())\n",
    "    val_list = list(cate_2_label.values())\n",
    "\n",
    "    position = [val_list.index(label) for label in labels]\n",
    "    return np.array(key_list)[position]"
   ]
  },
  {
   "cell_type": "code",
   "execution_count": 4,
   "metadata": {
    "executionInfo": {
     "elapsed": 6,
     "status": "ok",
     "timestamp": 1692798513161,
     "user": {
      "displayName": "Thuận Dương",
      "userId": "02491057733457472001"
     },
     "user_tz": -420
    },
    "id": "gKQtppP3zvqx"
   },
   "outputs": [],
   "source": [
    "X = np.array(corpus)\n",
    "y = np.array(labels)"
   ]
  },
  {
   "cell_type": "markdown",
   "metadata": {
    "id": "A-XU6Ja4zvqy"
   },
   "source": [
    "## Convert text to vector by using TF-IDF transform"
   ]
  },
  {
   "cell_type": "code",
   "execution_count": 5,
   "metadata": {
    "executionInfo": {
     "elapsed": 6,
     "status": "ok",
     "timestamp": 1692798513161,
     "user": {
      "displayName": "Thuận Dương",
      "userId": "02491057733457472001"
     },
     "user_tz": -420
    },
    "id": "fpIaoIjU09Ht"
   },
   "outputs": [],
   "source": [
    "def caculate_tfidf(X_vectorized):\n",
    "    tf = np.log(X_vectorized + 1)\n",
    "    df = np.sum(X_vectorized, axis= 0)\n",
    "    idf = np.log((n_doc+1)/(df+1)) + 1\n",
    "    tfidf = tf * idf\n",
    "\n",
    "    return idf, tf, tfidf"
   ]
  },
  {
   "cell_type": "code",
   "execution_count": 6,
   "metadata": {
    "executionInfo": {
     "elapsed": 6,
     "status": "ok",
     "timestamp": 1692798513161,
     "user": {
      "displayName": "Thuận Dương",
      "userId": "02491057733457472001"
     },
     "user_tz": -420
    },
    "id": "SR1DRgg1zvq0"
   },
   "outputs": [],
   "source": [
    "def compute_norm(tfidf_vec):\n",
    "    norm = np.linalg.norm(tfidf_vec, axis = 1)\n",
    "    n_doc = tfidf_vec.shape[0]\n",
    "    for i in range(n_doc):\n",
    "        tfidf_vec[i] /=  norm[i]"
   ]
  },
  {
   "cell_type": "code",
   "execution_count": 7,
   "metadata": {
    "colab": {
     "base_uri": "https://localhost:8080/"
    },
    "executionInfo": {
     "elapsed": 5,
     "status": "ok",
     "timestamp": 1692798513161,
     "user": {
      "displayName": "Thuận Dương",
      "userId": "02491057733457472001"
     },
     "user_tz": -420
    },
    "id": "ZDdqvG1Vzvqz",
    "outputId": "c6c7f245-0232-4184-93cf-9260bf47d45f"
   },
   "outputs": [
    {
     "name": "stdout",
     "output_type": "stream",
     "text": [
      "Vocab:  ['bát' 'bão' 'chim' 'cháo' 'có' 'cầu' 'gió' 'góp' 'gậy' 'gặt' 'làm' 'lành'\n",
      " 'lưng' 'mới' 'qua' 'rút' 'ván' 'ông' 'ăn' 'đá' 'đất' 'đập' 'đậu']\n"
     ]
    }
   ],
   "source": [
    "vectorizer = CountVectorizer()\n",
    "X_vectorized = vectorizer.fit_transform(X).toarray()\n",
    "print(\"Vocab: \", vectorizer.get_feature_names_out())"
   ]
  },
  {
   "cell_type": "code",
   "execution_count": 8,
   "metadata": {
    "executionInfo": {
     "elapsed": 671,
     "status": "ok",
     "timestamp": 1692798513828,
     "user": {
      "displayName": "Thuận Dương",
      "userId": "02491057733457472001"
     },
     "user_tz": -420
    },
    "id": "Dsnm5T63zvqz"
   },
   "outputs": [],
   "source": [
    "X_idf, x_tf, X_tfidf = caculate_tfidf(X_vectorized)"
   ]
  },
  {
   "cell_type": "markdown",
   "metadata": {
    "id": "MZlYY0rWzvq0"
   },
   "source": [
    "### Normlize TF-IDF values by L2 norm"
   ]
  },
  {
   "cell_type": "code",
   "execution_count": 9,
   "metadata": {
    "executionInfo": {
     "elapsed": 671,
     "status": "ok",
     "timestamp": 1692798513828,
     "user": {
      "displayName": "Thuận Dương",
      "userId": "02491057733457472001"
     },
     "user_tz": -420
    },
    "id": "0yFc_Wd5zvq0"
   },
   "outputs": [],
   "source": [
    "compute_norm(X_tfidf)"
   ]
  },
  {
   "cell_type": "markdown",
   "metadata": {
    "id": "KomFo23UNi5s"
   },
   "source": [
    "# Train model KNN with 1 neighbor"
   ]
  },
  {
   "cell_type": "code",
   "execution_count": 10,
   "metadata": {
    "colab": {
     "base_uri": "https://localhost:8080/"
    },
    "executionInfo": {
     "elapsed": 7,
     "status": "ok",
     "timestamp": 1692798513828,
     "user": {
      "displayName": "Thuận Dương",
      "userId": "02491057733457472001"
     },
     "user_tz": -420
    },
    "id": "iVluNGEyzvq0",
    "outputId": "f208c13e-a15c-4dde-df09-d7eabdf6dac0"
   },
   "outputs": [
    {
     "name": "stderr",
     "output_type": "stream",
     "text": [
      "E:\\SoftInstallation\\conda\\envs\\tf_env\\Lib\\site-packages\\joblib\\externals\\loky\\backend\\context.py:136: UserWarning: Could not find the number of physical cores for the following reason:\n",
      "found 0 physical cores < 1\n",
      "Returning the number of logical cores instead. You can silence this warning by setting LOKY_MAX_CPU_COUNT to the number of cores you want to use.\n",
      "  warnings.warn(\n",
      "  File \"E:\\SoftInstallation\\conda\\envs\\tf_env\\Lib\\site-packages\\joblib\\externals\\loky\\backend\\context.py\", line 282, in _count_physical_cores\n",
      "    raise ValueError(f\"found {cpu_count_physical} physical cores < 1\")\n"
     ]
    },
    {
     "name": "stdout",
     "output_type": "stream",
     "text": [
      "[1 0 1 1 1 1]\n"
     ]
    }
   ],
   "source": [
    "knn_cls = KNeighborsClassifier(n_neighbors=3)\n",
    "knn_cls.fit(X_tfidf, y)\n",
    "preds = knn_cls.predict(X_tfidf)\n",
    "print(preds)"
   ]
  },
  {
   "cell_type": "markdown",
   "metadata": {
    "id": "Qn1c_GCwzvq1"
   },
   "source": [
    "## Using pipeline of sklearn"
   ]
  },
  {
   "cell_type": "code",
   "execution_count": 11,
   "metadata": {
    "colab": {
     "base_uri": "https://localhost:8080/"
    },
    "executionInfo": {
     "elapsed": 6,
     "status": "ok",
     "timestamp": 1692798513828,
     "user": {
      "displayName": "Thuận Dương",
      "userId": "02491057733457472001"
     },
     "user_tz": -420
    },
    "id": "n7sKMV0Lzvq1",
    "outputId": "20d80afa-8b1a-4dfc-fe0d-3d74b0da8a4a"
   },
   "outputs": [
    {
     "name": "stdout",
     "output_type": "stream",
     "text": [
      "[1 1 1 0 0 0]\n"
     ]
    }
   ],
   "source": [
    "text_clf_model = Pipeline([('vect', CountVectorizer()),\n",
    "                            ('tfidf', TfidfTransformer()),\n",
    "                            ('clf', KNeighborsClassifier(n_neighbors=1)),\n",
    "                        ])\n",
    "\n",
    "text_clf_model.fit(X, y)\n",
    "\n",
    "preds = text_clf_model.predict(X)\n",
    "print(preds)"
   ]
  },
  {
   "cell_type": "markdown",
   "metadata": {
    "id": "pLewsqLwzvq1"
   },
   "source": [
    "### Inference"
   ]
  },
  {
   "cell_type": "code",
   "execution_count": 12,
   "metadata": {
    "executionInfo": {
     "elapsed": 6,
     "status": "ok",
     "timestamp": 1692798513829,
     "user": {
      "displayName": "Thuận Dương",
      "userId": "02491057733457472001"
     },
     "user_tz": -420
    },
    "id": "zTIdv8KUzvq1"
   },
   "outputs": [],
   "source": [
    "test_text = np.array([\"không làm cạp đất mà ăn\"])\n",
    "test_vec = vectorizer.transform(test_text).toarray()"
   ]
  },
  {
   "cell_type": "code",
   "execution_count": 13,
   "metadata": {
    "executionInfo": {
     "elapsed": 5,
     "status": "ok",
     "timestamp": 1692798513829,
     "user": {
      "displayName": "Thuận Dương",
      "userId": "02491057733457472001"
     },
     "user_tz": -420
    },
    "id": "ieRkpUOqzvq1"
   },
   "outputs": [],
   "source": [
    "test_tf = np.log(test_vec + 1)\n",
    "test_tfidf = test_tf * X_idf"
   ]
  },
  {
   "cell_type": "code",
   "execution_count": 14,
   "metadata": {
    "executionInfo": {
     "elapsed": 5,
     "status": "ok",
     "timestamp": 1692798513829,
     "user": {
      "displayName": "Thuận Dương",
      "userId": "02491057733457472001"
     },
     "user_tz": -420
    },
    "id": "8zlwdCaz9unK"
   },
   "outputs": [],
   "source": [
    "compute_norm(test_tfidf)"
   ]
  },
  {
   "cell_type": "code",
   "execution_count": 15,
   "metadata": {
    "colab": {
     "base_uri": "https://localhost:8080/"
    },
    "executionInfo": {
     "elapsed": 5,
     "status": "ok",
     "timestamp": 1692798513829,
     "user": {
      "displayName": "Thuận Dương",
      "userId": "02491057733457472001"
     },
     "user_tz": -420
    },
    "id": "w8o2wkhMzvq2",
    "outputId": "cfe37140-d9bc-4dfe-ad12-5bc3dfd6a2fd"
   },
   "outputs": [
    {
     "name": "stdout",
     "output_type": "stream",
     "text": [
      "['positive']\n"
     ]
    }
   ],
   "source": [
    "pred = knn_cls.predict(test_tfidf)\n",
    "\n",
    "print(label_2_cate(pred))"
   ]
  },
  {
   "cell_type": "code",
   "execution_count": null,
   "metadata": {},
   "outputs": [],
   "source": []
  }
 ],
 "metadata": {
  "colab": {
   "provenance": []
  },
  "kernelspec": {
   "display_name": "Python 3 (ipykernel)",
   "language": "python",
   "name": "python3"
  },
  "language_info": {
   "codemirror_mode": {
    "name": "ipython",
    "version": 3
   },
   "file_extension": ".py",
   "mimetype": "text/x-python",
   "name": "python",
   "nbconvert_exporter": "python",
   "pygments_lexer": "ipython3",
   "version": "3.11.4"
  }
 },
 "nbformat": 4,
 "nbformat_minor": 1
}
