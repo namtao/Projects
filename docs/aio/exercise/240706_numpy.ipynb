{
 "cells": [
  {
   "cell_type": "code",
   "execution_count": 2,
   "metadata": {},
   "outputs": [
    {
     "name": "stdout",
     "output_type": "stream",
     "text": [
      "[1 3 5 7 9]\n"
     ]
    }
   ],
   "source": [
    "# Câu 3\n",
    "\n",
    "import numpy as np\n",
    "\n",
    "arr = np.arange(0, 10)\n",
    "print(arr[arr % 2 == 1])"
   ]
  },
  {
   "cell_type": "code",
   "execution_count": 1,
   "metadata": {},
   "outputs": [
    {
     "name": "stdout",
     "output_type": "stream",
     "text": [
      "[ 0 -1  2 -1  4 -1  6 -1  8 -1]\n"
     ]
    }
   ],
   "source": [
    "# Câu 4\n",
    "import numpy as np\n",
    "\n",
    "arr = np.arange(0, 10)\n",
    "arr[arr % 2 == 1] = -1\n",
    "print(arr)"
   ]
  },
  {
   "cell_type": "code",
   "execution_count": 3,
   "metadata": {},
   "outputs": [
    {
     "name": "stdout",
     "output_type": "stream",
     "text": [
      "[[0 1 2 3 4]\n",
      " [5 6 7 8 9]]\n"
     ]
    }
   ],
   "source": [
    "# Câu 5\n",
    "import numpy as np\n",
    "\n",
    "arr = np.arange(10)\n",
    "arr_2d = arr.reshape(2, -1)\n",
    "print(arr_2d)"
   ]
  },
  {
   "cell_type": "code",
   "execution_count": 4,
   "metadata": {},
   "outputs": [
    {
     "name": "stdout",
     "output_type": "stream",
     "text": [
      " Result : \n",
      " [[0 1 2 3 4]\n",
      " [5 6 7 8 9]\n",
      " [1 1 1 1 1]\n",
      " [1 1 1 1 1]]\n"
     ]
    }
   ],
   "source": [
    "# Câu 6\n",
    "import numpy as np\n",
    "\n",
    "arr1 = np.arange(10).reshape(2, -1)\n",
    "arr2 = np.repeat(1, 10).reshape(2, -1)\n",
    "c = np.concatenate([arr1, arr2], axis=0)\n",
    "print(\" Result : \\n\", c)"
   ]
  },
  {
   "cell_type": "code",
   "execution_count": 5,
   "metadata": {},
   "outputs": [
    {
     "name": "stdout",
     "output_type": "stream",
     "text": [
      "C =  [[0 1 2 3 4 1 1 1 1 1]\n",
      " [5 6 7 8 9 1 1 1 1 1]]\n"
     ]
    }
   ],
   "source": [
    "# Câu 7\n",
    "import numpy as np\n",
    "\n",
    "arr1 = np.arange(10).reshape(2, -1)\n",
    "arr2 = np.repeat(1, 10).reshape(2, -1)\n",
    "c = np.concatenate([arr1, arr2], axis=1)\n",
    "print(\"C = \", c)"
   ]
  },
  {
   "cell_type": "code",
   "execution_count": 6,
   "metadata": {},
   "outputs": [
    {
     "name": "stdout",
     "output_type": "stream",
     "text": [
      "[1 1 1 2 2 2 3 3 3]\n",
      "[1 2 3 1 2 3 1 2 3]\n"
     ]
    }
   ],
   "source": [
    "# Câu 8\n",
    "import numpy as np\n",
    "\n",
    "arr = np.array([1, 2, 3])\n",
    "print(np.repeat(arr, 3))\n",
    "print(np.tile(arr, 3))"
   ]
  },
  {
   "cell_type": "code",
   "execution_count": 7,
   "metadata": {},
   "outputs": [
    {
     "name": "stdout",
     "output_type": "stream",
     "text": [
      " result  [ 6  9 10]\n"
     ]
    }
   ],
   "source": [
    "# Câu 9\n",
    "import numpy as np\n",
    "\n",
    "a = np.array([2, 6, 1, 9, 10, 3, 27])\n",
    "index = np.where((a >= 5) & (a <= 10))\n",
    "print(\" result \", a[index])"
   ]
  },
  {
   "cell_type": "code",
   "execution_count": 8,
   "metadata": {},
   "outputs": [
    {
     "name": "stdout",
     "output_type": "stream",
     "text": [
      "[6. 7. 9. 8. 9. 7. 5.]\n"
     ]
    }
   ],
   "source": [
    "# Câu 10\n",
    "import numpy as np\n",
    "\n",
    "\n",
    "def maxx(x, y):\n",
    "    if x >= y:\n",
    "        return x\n",
    "    else:\n",
    "        return y\n",
    "\n",
    "\n",
    "a = np.array([5, 7, 9, 8, 6, 4, 5])\n",
    "b = np.array([6, 3, 4, 8, 9, 7, 1])\n",
    "\n",
    "pair_max = np.vectorize(maxx, otypes=[float])\n",
    "print(pair_max(a, b))"
   ]
  },
  {
   "cell_type": "code",
   "execution_count": 9,
   "metadata": {},
   "outputs": [
    {
     "name": "stdout",
     "output_type": "stream",
     "text": [
      " Result  [6 7 9 8 9 7 5]\n"
     ]
    }
   ],
   "source": [
    "# Câu 11\n",
    "import numpy as np\n",
    "\n",
    "a = np.array([5, 7, 9, 8, 6, 4, 5])\n",
    "b = np.array([6, 3, 4, 8, 9, 7, 1])\n",
    "\n",
    "print(\" Result \", np.where(a < b, b, a))"
   ]
  },
  {
   "cell_type": "code",
   "execution_count": 16,
   "metadata": {},
   "outputs": [
    {
     "data": {
      "text/plain": [
       "102.5"
      ]
     },
     "execution_count": 16,
     "metadata": {},
     "output_type": "execute_result"
    }
   ],
   "source": [
    "# Câu 12\n",
    "# Download image\n",
    "# !gdown 1i9dqan21DjQoG5Q_VEvm0LrVwAlXD0vB\n",
    "\n",
    "import matplotlib.image as mpimg\n",
    "import numpy as np\n",
    "\n",
    "img = mpimg.imread(\"./dog.jpeg\")\n",
    "R = img[:, :, 0]\n",
    "G = img[:, :, 1]\n",
    "B = img[:, :, 2]\n",
    "\n",
    "gray_img_01 = (np.maximum(np.maximum(R, G), B) + np.minimum(np.minimum(R, G), B)) / 2\n",
    "gray_img_01[0, 0]"
   ]
  },
  {
   "cell_type": "code",
   "execution_count": 27,
   "metadata": {},
   "outputs": [
    {
     "data": {
      "text/plain": [
       "107.66666666666667"
      ]
     },
     "execution_count": 27,
     "metadata": {},
     "output_type": "execute_result"
    }
   ],
   "source": [
    "# Câu 13\n",
    "import matplotlib.image as mpimg\n",
    "\n",
    "img = mpimg.imread(\"./dog.jpeg\")\n",
    "gray_img_02 = np.mean([R, G, B], axis=0)\n",
    "gray_img_02[0, 0]"
   ]
  },
  {
   "cell_type": "code",
   "execution_count": 21,
   "metadata": {},
   "outputs": [
    {
     "data": {
      "text/plain": [
       "126.22999999999999"
      ]
     },
     "execution_count": 21,
     "metadata": {},
     "output_type": "execute_result"
    }
   ],
   "source": [
    "# Câu 14\n",
    "import matplotlib.image as mpimg\n",
    "\n",
    "img = mpimg.imread(\"./dog.jpeg\")\n",
    "gray_img_03 = 0.21 * R + 0.72 * G + 0.07 * B\n",
    "gray_img_03[0, 0]"
   ]
  },
  {
   "cell_type": "code",
   "execution_count": 36,
   "metadata": {},
   "outputs": [
    {
     "name": "stdout",
     "output_type": "stream",
     "text": [
      "27.0\n",
      "175\n"
     ]
    }
   ],
   "source": [
    "# Câu 15\n",
    "# Download data\n",
    "# !gdown 1iA0WmVfW88HyJvTBSQDI5vesf-pgKabq\n",
    "\n",
    "import pandas as pd\n",
    "\n",
    "df = pd.read_csv(\"./advertising.csv\")\n",
    "data = df.to_numpy()\n",
    "print(np.max(data[:, 3]))\n",
    "print(np.argmax(data[:, 3]))"
   ]
  },
  {
   "cell_type": "code",
   "execution_count": 38,
   "metadata": {},
   "outputs": [
    {
     "name": "stdout",
     "output_type": "stream",
     "text": [
      "147.0425\n"
     ]
    }
   ],
   "source": [
    "# Câu 16\n",
    "import pandas as pd\n",
    "\n",
    "df = pd.read_csv(\"./advertising.csv\")\n",
    "data = df.to_numpy()\n",
    "print(np.mean(data[:, 0]))"
   ]
  },
  {
   "cell_type": "code",
   "execution_count": 42,
   "metadata": {},
   "outputs": [
    {
     "name": "stdout",
     "output_type": "stream",
     "text": [
      "40\n"
     ]
    }
   ],
   "source": [
    "# Câu 17\n",
    "import pandas as pd\n",
    "\n",
    "df = pd.read_csv(\"./advertising.csv\")\n",
    "data = df.to_numpy()\n",
    "print(np.sum(data[:, 3] >= 20))"
   ]
  },
  {
   "cell_type": "code",
   "execution_count": 44,
   "metadata": {},
   "outputs": [
    {
     "name": "stdout",
     "output_type": "stream",
     "text": [
      "26.22293577981651\n"
     ]
    }
   ],
   "source": [
    "# Câu 18\n",
    "import pandas as pd\n",
    "\n",
    "df = pd.read_csv(\"./advertising.csv\")\n",
    "data = df.to_numpy()\n",
    "tv_column = data[:, 0]\n",
    "radio_column = data[:, 1]\n",
    "newspaper_column = data[:, 2]\n",
    "sales_column = data[:, 3]\n",
    "\n",
    "print(np.mean(radio_column[sales_column >= 15]))"
   ]
  },
  {
   "cell_type": "code",
   "execution_count": 45,
   "metadata": {},
   "outputs": [
    {
     "name": "stdout",
     "output_type": "stream",
     "text": [
      "1405.1\n"
     ]
    }
   ],
   "source": [
    "# Câu 19\n",
    "import pandas as pd\n",
    "\n",
    "df = pd.read_csv(\"./advertising.csv\")\n",
    "data = df.to_numpy()\n",
    "tv_column = data[:, 0]\n",
    "radio_column = data[:, 1]\n",
    "newspaper_column = data[:, 2]\n",
    "sales_column = data[:, 3]\n",
    "\n",
    "print(np.sum(sales_column[newspaper_column > np.mean(newspaper_column)]))"
   ]
  },
  {
   "cell_type": "code",
   "execution_count": 47,
   "metadata": {},
   "outputs": [
    {
     "name": "stdout",
     "output_type": "stream",
     "text": [
      "['Bad', 'Bad', 'Good']\n"
     ]
    }
   ],
   "source": [
    "# Câu 20\n",
    "import pandas as pd\n",
    "\n",
    "df = pd.read_csv(\"./advertising.csv\")\n",
    "data = df.to_numpy()\n",
    "tv_column = data[:, 0]\n",
    "radio_column = data[:, 1]\n",
    "newspaper_column = data[:, 2]\n",
    "sales_column = data[:, 3]\n",
    "\n",
    "mean_sales = np.mean(sales_column)\n",
    "scores = []\n",
    "for sale in sales_column:\n",
    "    if sale > mean_sales:\n",
    "        scores.append(\"Good\")\n",
    "    elif sale < mean_sales:\n",
    "        scores.append(\"Bad\")\n",
    "    else:\n",
    "        scores.append(\"Average\")\n",
    "\n",
    "print(f\"{scores[7:10]}\")"
   ]
  },
  {
   "cell_type": "code",
   "execution_count": 51,
   "metadata": {},
   "outputs": [
    {
     "name": "stdout",
     "output_type": "stream",
     "text": [
      "['Bad', 'Bad', 'Good']\n"
     ]
    }
   ],
   "source": [
    "# Câu 21\n",
    "import pandas as pd\n",
    "\n",
    "df = pd.read_csv(\"./advertising.csv\")\n",
    "data = df.to_numpy()\n",
    "tv_column = data[:, 0]\n",
    "radio_column = data[:, 1]\n",
    "newspaper_column = data[:, 2]\n",
    "sales_column = data[:, 3]\n",
    "\n",
    "mean_sales = np.mean(sales_column)\n",
    "closest_sales = sales_column[np.abs(sales_column - mean_sales).argmin()]\n",
    "scores_closest = []\n",
    "for sale in sales_column:\n",
    "    if sale > closest_sales:\n",
    "        scores_closest.append(\"Good\")\n",
    "    elif sale < closest_sales:\n",
    "        scores_closest.append(\"Bad\")\n",
    "    else:\n",
    "        scores_closest.append(\"Average\")\n",
    "\n",
    "# In kết quả scores_closest[7:10]\n",
    "print(f\"{scores_closest[7:10]}\")"
   ]
  }
 ],
 "metadata": {
  "kernelspec": {
   "display_name": ".env",
   "language": "python",
   "name": "python3"
  },
  "language_info": {
   "codemirror_mode": {
    "name": "ipython",
    "version": 3
   },
   "file_extension": ".py",
   "mimetype": "text/x-python",
   "name": "python",
   "nbconvert_exporter": "python",
   "pygments_lexer": "ipython3",
   "version": "3.12.1"
  }
 },
 "nbformat": 4,
 "nbformat_minor": 2
}
