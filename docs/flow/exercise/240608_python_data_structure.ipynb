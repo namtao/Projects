{
 "cells": [
  {
   "cell_type": "markdown",
   "metadata": {},
   "source": [
    "# Data structure"
   ]
  },
  {
   "cell_type": "markdown",
   "metadata": {},
   "source": [
    "## Câu 1\n",
    "\n",
    "```:\n",
    "Cho một list các số nguyên num_list và một sliding window có kích thước size k di\n",
    "chuyển từ trái sang phải. Mỗi lần dịch chuyển 1 vị trí sang phải có thể nhìn thấy\n",
    "đươc k số trong num_list và tìm số lớn nhất trong k số này sau mỗi lần trượt k phải\n",
    "lớn hơn hoặc bằng 1\n",
    "Input: num_list = [3, 4, 5, 1, -44 , 5 ,10, 12 ,33, 1] với k=3\n",
    "Output: [5, 5, 5, 5, 10, 12, 33, 33]\n",
    "Ví dụ:\n",
    "[3, 4, 5], 1, -44 , 5 ,10, 12 ,33, 1 => max 5\n",
    "3, [4, 5, 1], -44 , 5 ,10, 12 ,33, 1 => max 5\n",
    "3, 4, [5, 1, -44] , 5 ,10, 12 ,33, 1 => max 5\n",
    "3, 4, 5, [1, -44 , 5] ,10, 12 ,33, 1 => max 5\n",
    "3, 4, 5, 1, [-44 , 5 ,10], 12 ,33, 1 => max 10\n",
    "3, 4, 5, 1, -44 , [5 ,10, 12] ,33, 1 => max 12\n",
    "3, 4, 5, 1, -44 , 5 ,[10, 12 ,33], 1 => max 33\n",
    "3, 4, 5, 1, -44 , 5 ,10, [12 ,33, 1] => max 33\n",
    "```"
   ]
  },
  {
   "cell_type": "code",
   "execution_count": 8,
   "metadata": {},
   "outputs": [],
   "source": [
    "num_list = [3, 4, 5, 1, -44, 5, 10, 12, 33, 1]\n",
    "k = 3"
   ]
  },
  {
   "cell_type": "code",
   "execution_count": 9,
   "metadata": {},
   "outputs": [
    {
     "data": {
      "text/plain": [
       "[3, 4, 5, 1, -44, 5, 10]"
      ]
     },
     "execution_count": 9,
     "metadata": {},
     "output_type": "execute_result"
    }
   ],
   "source": [
    "num_list[:-3]"
   ]
  },
  {
   "cell_type": "code",
   "execution_count": 10,
   "metadata": {},
   "outputs": [
    {
     "data": {
      "text/plain": [
       "[5, 5, 5, 5, 10, 12, 33, 33]"
      ]
     },
     "execution_count": 10,
     "metadata": {},
     "output_type": "execute_result"
    }
   ],
   "source": [
    "max_lst = []\n",
    "\n",
    "if k < 1:\n",
    "    print(\"K < 1\")\n",
    "else:\n",
    "    for i, v in enumerate(num_list[:-2]):\n",
    "        max_lst.append(max([num_list[i], num_list[i + 1], num_list[i + 2]]))\n",
    "\n",
    "max_lst"
   ]
  },
  {
   "cell_type": "markdown",
   "metadata": {},
   "source": [
    "## Câu 2:\n",
    "\n",
    "```:\n",
    "Viết function trả về một dictionary đếm số lượng chữ xuất hiện trong một từ, với key là chữ cái\n",
    "và value là số lần xuất hiện\n",
    "• Input: một từ\n",
    "• Output: dictionary đếm số lần các chữ xuất hiện\n",
    "• Note: Giả sử các từ nhập vào đều có các chữ cái thuộc [a-z] hoặc [A-Z]\n",
    "```"
   ]
  },
  {
   "cell_type": "code",
   "execution_count": 34,
   "metadata": {},
   "outputs": [
    {
     "data": {
      "text/plain": [
       "{'H': 1, 'a': 1, 'p': 2, 'i': 1, 'n': 1, 'e': 1, 's': 2}"
      ]
     },
     "execution_count": 34,
     "metadata": {},
     "output_type": "execute_result"
    }
   ],
   "source": [
    "_str = 'Happiness'\n",
    "_dict = {}\n",
    "\n",
    "if(isinstance(_str, str)):\n",
    "    for i in _str:\n",
    "        if i in _dict:\n",
    "            _dict[i]+=1\n",
    "        else:\n",
    "            _dict[i] = 1\n",
    "            \n",
    "_dict"
   ]
  },
  {
   "cell_type": "markdown",
   "metadata": {},
   "source": [
    "## Câu 3:\n",
    "\n",
    "```:\n",
    "Thực hiện theo các yêu cầu sau.\n",
    "Viết function đọc các câu trong một file txt, đếm số lượng các từ xuất hiện và trả về một dictionary\n",
    "với key là từ và value là số lần từ đó xuất hiện.\n",
    "• Input: Đường dẫn đến file txt\n",
    "• Output: dictionary đếm số lần các từ xuất hiện\n",
    "• Note:\n",
    "– Giả sử các từ trong file txt đều có các chữ cái thuộc [a-z] hoặc [A-Z]\n",
    "– Không cần các thao tác xử lý string phức tạp nhưng cần xử lý các từ đều là viết\n",
    "thường\n",
    "– Các bạn dùng lệnh này để download\n",
    "!gdown https://drive.google.com/uc?id=1IBScGdW2xlNsc9v5zSAya548kNgiOrko\n",
    "```"
   ]
  },
  {
   "cell_type": "code",
   "execution_count": 19,
   "metadata": {},
   "outputs": [
    {
     "name": "stderr",
     "output_type": "stream",
     "text": [
      "Downloading...\n",
      "From: https://drive.google.com/uc?id=1IBScGdW2xlNsc9v5zSAya548kNgiOrko\n",
      "To: c:\\Projects\\artificial-brains\\docs\\flow\\exercise\\P1_data.txt\n",
      "\n",
      "  0%|          | 0.00/747 [00:00<?, ?B/s]\n",
      "100%|██████████| 747/747 [00:00<?, ?B/s] \n"
     ]
    }
   ],
   "source": [
    "!gdown https://drive.google.com/uc?id=1IBScGdW2xlNsc9v5zSAya548kNgiOrko"
   ]
  },
  {
   "cell_type": "code",
   "execution_count": 32,
   "metadata": {},
   "outputs": [
    {
     "data": {
      "text/plain": [
       "{'he': 1,\n",
       " 'who': 3,\n",
       " 'conquers': 1,\n",
       " 'himself': 1,\n",
       " 'is': 3,\n",
       " 'the': 5,\n",
       " 'mightiest': 1,\n",
       " 'warrior': 1,\n",
       " 'try': 2,\n",
       " 'not': 1,\n",
       " 'to': 3,\n",
       " 'become': 2,\n",
       " 'a': 7,\n",
       " 'man': 6,\n",
       " 'of': 4,\n",
       " 'success': 3,\n",
       " 'but': 1,\n",
       " 'rather': 1,\n",
       " 'value': 1,\n",
       " 'one': 4,\n",
       " 'with': 4,\n",
       " 'courage': 1,\n",
       " 'makes': 1,\n",
       " 'majority': 1,\n",
       " 'secret': 1,\n",
       " 'in': 4,\n",
       " 'life': 2,\n",
       " 'for': 3,\n",
       " 'be': 1,\n",
       " 'ready': 1,\n",
       " 'his': 2,\n",
       " 'opportunity': 1,\n",
       " 'when': 2,\n",
       " 'it': 2,\n",
       " 'comes': 2,\n",
       " 'successful': 2,\n",
       " 'will': 2,\n",
       " 'profit': 1,\n",
       " 'from': 1,\n",
       " 'mistakes': 1,\n",
       " 'and': 1,\n",
       " 'again': 1,\n",
       " 'different': 1,\n",
       " 'way': 1,\n",
       " 'can': 3,\n",
       " 'lay': 1,\n",
       " 'firm': 1,\n",
       " 'foundation': 1,\n",
       " 'bricks': 1,\n",
       " 'others': 1,\n",
       " 'have': 1,\n",
       " 'thrown': 1,\n",
       " 'at': 1,\n",
       " 'him': 1,\n",
       " 'usually': 1,\n",
       " 'those': 1,\n",
       " 'are': 1,\n",
       " 'too': 1,\n",
       " 'busy': 1,\n",
       " 'looking': 1,\n",
       " 'we': 3,\n",
       " 'cannot': 1,\n",
       " 'solve': 1,\n",
       " 'problems': 1,\n",
       " 'kind': 1,\n",
       " 'thinking': 1,\n",
       " 'employed': 1,\n",
       " 'came': 1,\n",
       " 'up': 1,\n",
       " 'them': 1,\n",
       " 'just': 2,\n",
       " 'small': 1,\n",
       " 'positive': 1,\n",
       " 'thought': 1,\n",
       " 'morning': 1,\n",
       " 'change': 1,\n",
       " 'your': 1,\n",
       " 'whole': 1,\n",
       " 'day': 1,\n",
       " 'you': 3,\n",
       " 'get': 2,\n",
       " 'everything': 1,\n",
       " 'want': 2,\n",
       " 'if': 1,\n",
       " 'help': 1,\n",
       " 'enough': 1,\n",
       " 'other': 1,\n",
       " 'people': 1,\n",
       " 'what': 1,\n",
       " 'they': 1}"
      ]
     },
     "execution_count": 32,
     "metadata": {},
     "output_type": "execute_result"
    }
   ],
   "source": [
    "file_path = \"P1_data.txt\"\n",
    "dict_word = {}\n",
    "\n",
    "\n",
    "with open(file_path, \"r\") as file:\n",
    "\n",
    "    for i in file.read().replace(\"\\n\", \" \").split(\" \"):\n",
    "        i = i.lower()\n",
    "        if i in dict_word:\n",
    "            dict_word[i] += 1\n",
    "        else:\n",
    "            dict_word[i] = 1\n",
    "\n",
    "dict_word"
   ]
  },
  {
   "cell_type": "markdown",
   "metadata": {},
   "source": [
    "## Câu 4: Khoảng cách Levenshtein.\n",
    "\n",
    "```:\n",
    "Viết chương trình tính khoảng cách chỉnh sửa tối thiểu Levenshtein. Khoảng cách Levenshtein thể\n",
    "hiện khoảng cách khác biệt giữa 2 chuỗi ký tự. Khoảng cách Levenshtein giữa chuỗi S và chuỗi T\n",
    "là số bước ít nhất biến chuỗi S thành chuỗi T thông qua 3 phép biến đổi là:\n",
    "• Xoá một ký tự\n",
    "• Thêm một ký tự\n",
    "• Thay thế ký tự này bằng ký tự khác\n",
    "Khoảng cách này được sử dụng trong việc tính toán sự giống và khác nhau giữa 2 chuỗi, như\n",
    "chương trình kiểm tra lỗi chính tả của winword spellchecker. Ví dụ: Khoảng cách Levenshtein\n",
    "giữa 2 chuỗi \"kitten\" và \"sitting\" là 3, vì phải dùng ít nhất 3 lần biến đổi. Trong đó:\n",
    "• kitten -> sitten (thay \"k\" bằng \"s\")\n",
    "• sitten -> sittin (thay \"e\" bằng \"i\")\n",
    "• sittin -> sitting (thêm ký tự \"g\")\n",
    "Để hiểu rõ về thuật toán, chúng ta lấy ví dụ, khoảng cách cần tính giữa hai từ source: ’yu’ và\n",
    "target: ’you’. Chi phí thực hiện cho các phép biến đổi bao gồm: xoá một ký tự, thêm một ký tự\n",
    "và thay thế ký tự này thành ký tự khác đều là 1 (Nếu 2 ký tự giống nhau thì chi phí thực hiện là\n",
    "0).\n",
    "\n",
    "```\n"
   ]
  },
  {
   "cell_type": "code",
   "execution_count": 1,
   "metadata": {},
   "outputs": [],
   "source": [
    "source = \"yu\"\n",
    "target = \"you\"\n",
    "\n",
    "m = len(source) + 1\n",
    "n = len(target) + 1"
   ]
  }
 ],
 "metadata": {
  "kernelspec": {
   "display_name": ".env",
   "language": "python",
   "name": "python3"
  },
  "language_info": {
   "codemirror_mode": {
    "name": "ipython",
    "version": 3
   },
   "file_extension": ".py",
   "mimetype": "text/x-python",
   "name": "python",
   "nbconvert_exporter": "python",
   "pygments_lexer": "ipython3",
   "version": "3.12.1"
  }
 },
 "nbformat": 4,
 "nbformat_minor": 2
}
