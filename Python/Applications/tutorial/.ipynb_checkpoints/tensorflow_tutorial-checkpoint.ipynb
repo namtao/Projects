{
 "cells": [
  {
   "cell_type": "code",
   "execution_count": 2,
   "id": "4ba36262",
   "metadata": {},
   "outputs": [
    {
     "name": "stdout",
     "output_type": "stream",
     "text": [
      "8\n"
     ]
    }
   ],
   "source": [
    "import tensorflow.compat.v1 as tf\n",
    "\n",
    "tf.disable_v2_behavior()\n",
    "tf.compat.v1.disable_resource_variables()\n",
    "\n",
    "############GRAPH##################\n",
    " \n",
    "num_1 = tf.placeholder(tf.int32)\n",
    " \n",
    "num_2 = tf.placeholder(tf.int32)\n",
    " \n",
    "sumTwoNums = tf.add(num_1,num_2)\n",
    " \n",
    "#############DATA###################\n",
    " \n",
    "num1 = 3\n",
    " \n",
    "num2 = 5\n",
    " \n",
    "##########SESSION##################\n",
    " \n",
    "with tf.Session() as sess:\n",
    " \n",
    "   result_sum = sess.run(sumTwoNums , feed_dict={num_1:num1,num_2:num2})\n",
    " \n",
    "###########OUTPUT####################\n",
    " \n",
    "print(result_sum)\n",
    "\n"
   ]
  },
  {
   "cell_type": "code",
   "execution_count": null,
   "id": "6b07a266",
   "metadata": {},
   "outputs": [],
   "source": []
  }
 ],
 "metadata": {
  "kernelspec": {
   "display_name": "Python 3",
   "language": "python",
   "name": "python3"
  },
  "language_info": {
   "codemirror_mode": {
    "name": "ipython",
    "version": 3
   },
   "file_extension": ".py",
   "mimetype": "text/x-python",
   "name": "python",
   "nbconvert_exporter": "python",
   "pygments_lexer": "ipython3",
   "version": "3.8.8"
  },
  "widgets": {
   "application/vnd.jupyter.widget-state+json": {
    "state": {},
    "version_major": 2,
    "version_minor": 0
   }
  }
 },
 "nbformat": 4,
 "nbformat_minor": 5
}
