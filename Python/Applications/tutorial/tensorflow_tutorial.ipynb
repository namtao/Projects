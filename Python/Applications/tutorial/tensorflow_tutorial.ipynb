{
 "cells": [
  {
   "cell_type": "code",
   "execution_count": 34,
   "id": "4ba36262",
   "metadata": {},
   "outputs": [],
   "source": [
    "import tensorflow.compat.v1 as tf\n",
    "\n",
    "tf.disable_v2_behavior()\n",
    "tf.disable_resource_variables()\n",
    "tf.disable_eager_execution()\n",
    " \n",
    "x = tf.Variable(10, name='x')\n",
    " \n",
    "y = tf.Variable(20, name='y')\n",
    " \n",
    "# tạo toán tử add trước khi dùng\n",
    " \n",
    "z = tf.add(x, y)\n",
    "\n",
    "with tf.Session() as sess:\n",
    " \n",
    "    sess.run(tf.global_variables_initializer())\n",
    " \n",
    "    writer = tf.summary.FileWriter(\"normalloading\",sess.graph)\n",
    " \n",
    "    for _ in range(10):\n",
    " \n",
    "       sess.run(z)\n",
    " \n",
    "    writer.close()"
   ]
  },
  {
   "cell_type": "code",
   "execution_count": null,
   "id": "bddebef9",
   "metadata": {},
   "outputs": [],
   "source": []
  }
 ],
 "metadata": {
  "kernelspec": {
   "display_name": "Python 3",
   "language": "python",
   "name": "python3"
  },
  "language_info": {
   "codemirror_mode": {
    "name": "ipython",
    "version": 3
   },
   "file_extension": ".py",
   "mimetype": "text/x-python",
   "name": "python",
   "nbconvert_exporter": "python",
   "pygments_lexer": "ipython3",
   "version": "3.8.8"
  },
  "widgets": {
   "application/vnd.jupyter.widget-state+json": {
    "state": {},
    "version_major": 2,
    "version_minor": 0
   }
  }
 },
 "nbformat": 4,
 "nbformat_minor": 5
}
